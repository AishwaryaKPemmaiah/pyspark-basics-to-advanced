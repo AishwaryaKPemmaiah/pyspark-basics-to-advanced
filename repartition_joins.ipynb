{
 "cells": [
  {
   "cell_type": "code",
   "execution_count": 1,
   "id": "1f6fa706-348b-472d-b601-848986b01734",
   "metadata": {},
   "outputs": [
    {
     "name": "stderr",
     "output_type": "stream",
     "text": [
      "25/05/20 09:53:22 WARN Utils: Your hostname, oem-Lenovo-G50-80 resolves to a loopback address: 127.0.1.1; using 192.168.0.121 instead (on interface wlp3s0)\n",
      "25/05/20 09:53:22 WARN Utils: Set SPARK_LOCAL_IP if you need to bind to another address\n",
      "Setting default log level to \"WARN\".\n",
      "To adjust logging level use sc.setLogLevel(newLevel). For SparkR, use setLogLevel(newLevel).\n",
      "25/05/20 09:53:23 WARN NativeCodeLoader: Unable to load native-hadoop library for your platform... using builtin-java classes where applicable\n",
      "25/05/20 09:53:25 WARN Utils: Service 'SparkUI' could not bind on port 4040. Attempting port 4041.\n"
     ]
    }
   ],
   "source": [
    "from pyspark.sql import SparkSession\n",
    "spark = (SparkSession.\\\n",
    "         builder.\\\n",
    "         appName(\"Sorting and Agregation\").\\\n",
    "         master(\"local[*]\").\\\n",
    "         getOrCreate()\n",
    "        )\n",
    "         "
   ]
  },
  {
   "cell_type": "code",
   "execution_count": 2,
   "id": "82cb7942-97b4-44f4-9a28-835bb0245eb6",
   "metadata": {},
   "outputs": [
    {
     "data": {
      "text/html": [
       "\n",
       "            <div>\n",
       "                <p><b>SparkSession - in-memory</b></p>\n",
       "                \n",
       "        <div>\n",
       "            <p><b>SparkContext</b></p>\n",
       "\n",
       "            <p><a href=\"http://192.168.0.121:4041\">Spark UI</a></p>\n",
       "\n",
       "            <dl>\n",
       "              <dt>Version</dt>\n",
       "                <dd><code>v3.5.5</code></dd>\n",
       "              <dt>Master</dt>\n",
       "                <dd><code>local[*]</code></dd>\n",
       "              <dt>AppName</dt>\n",
       "                <dd><code>Sorting and Agregation</code></dd>\n",
       "            </dl>\n",
       "        </div>\n",
       "        \n",
       "            </div>\n",
       "        "
      ],
      "text/plain": [
       "<pyspark.sql.session.SparkSession at 0x7cb107ad2a70>"
      ]
     },
     "execution_count": 2,
     "metadata": {},
     "output_type": "execute_result"
    }
   ],
   "source": [
    "spark"
   ]
  },
  {
   "cell_type": "code",
   "execution_count": 3,
   "id": "52710f59-a6eb-4e63-9782-1dd10fbe92f8",
   "metadata": {},
   "outputs": [],
   "source": [
    "emp_data = [\n",
    "    [\"001\", \"101\", \"Jane Smith\", \"25\", \"Female\", \"45000\", \"2016-02-15\"],\n",
    "    [\"002\", \"102\", \"Bob Brown\", \"35\", \"Male\", \"55000\", \"2014-01-10\"],\n",
    "    [\"003\", \"101\", \"Alice Lee\", \"30\", \"Female\", \"48000\", \"2018-05-21\"],\n",
    "    [\"004\", \"103\", \"Jack Chang\", \"40\", \"Male\", \"60000\", \"2013-04-01\"],\n",
    "    [\"005\", \"102\", \"Jill Wong\", \"28\", \"Female\", \"50000\", \"2017-01-05\"],\n",
    "    [\"006\", \"101\", \"James Hong\", \"34\", \"Male\", \"52000\", \"2016-07-15\"],\n",
    "    [\"007\", \"102\", \"Kate Kim\", \"29\", \"Female\", \"51000\", \"2019-08-01\"],\n",
    "    [\"008\", \"103\", \"Tom Tan\", \"36\", \"Male\", \"58000\", \"2015-12-01\"],\n",
    "    [\"009\", \"101\", \"Lisa Lee\", \"27\", \"Female\", \"47000\", \"2017-11-01\"],\n",
    "    [\"010\", \"104\", \"David Park\", \"38\", \"Male\", \"59000\", \"2014-06-01\"],\n",
    "    [\"011\", \"105\", \"Susan Chen\", \"33\", \"Female\", \"56000\", \"2016-03-01\"],\n",
    "    [\"012\", \"103\", \"Brian Kim\", \"41\", \"Male\", \"60000\", \"2012-09-01\"],\n",
    "    [\"013\", \"107\", \"Emily Lee\", \"32\", \"Female\", \"46000\", \"2019-04-01\"],\n",
    "    [\"014\", \"106\", \"Michael Lee\", \"29\", \"Male\", \"53000\", \"2018-01-01\"],\n",
    "    [\"015\", \"108\", \"Kelly Zhang\", \"31\", \"Female\", \"54000\", \"2017-06-01\"],\n",
    "    [\"016\", \"109\", \"George Wang\", \"35\", \"Male\", \"57000\", \"2015-03-01\"],\n",
    "    [\"017\", \"108\", \"Nancy Liu\", \"28\", \"Female\", \"52000\", \"2020-05-01\"],\n",
    "    [\"019\", \"107\", \"Steven Chen\", \"30\", \"Male\", \"55000\", \"2018-03-01\"],\n",
    "    [\"020\", \"102\", \"Grace Kim\", \"32\", \"Female\", \"53000\", \"2018-11-01\"]\n",
    "]\n",
    "emp_schema = \"employee_id string, department_id string, name string, age string, gender string, salary string, hire_date string\"\n"
   ]
  },
  {
   "cell_type": "code",
   "execution_count": 4,
   "id": "11b22f94-66e3-4aad-89b4-7d101d4bd999",
   "metadata": {},
   "outputs": [
    {
     "data": {
      "text/plain": [
       "[['001', '101', 'Jane Smith', '25', 'Female', '45000', '2016-02-15'],\n",
       " ['002', '102', 'Bob Brown', '35', 'Male', '55000', '2014-01-10'],\n",
       " ['003', '101', 'Alice Lee', '30', 'Female', '48000', '2018-05-21'],\n",
       " ['004', '103', 'Jack Chang', '40', 'Male', '60000', '2013-04-01'],\n",
       " ['005', '102', 'Jill Wong', '28', 'Female', '50000', '2017-01-05'],\n",
       " ['006', '101', 'James Hong', '34', 'Male', '52000', '2016-07-15'],\n",
       " ['007', '102', 'Kate Kim', '29', 'Female', '51000', '2019-08-01'],\n",
       " ['008', '103', 'Tom Tan', '36', 'Male', '58000', '2015-12-01'],\n",
       " ['009', '101', 'Lisa Lee', '27', 'Female', '47000', '2017-11-01'],\n",
       " ['010', '104', 'David Park', '38', 'Male', '59000', '2014-06-01'],\n",
       " ['011', '105', 'Susan Chen', '33', 'Female', '56000', '2016-03-01'],\n",
       " ['012', '103', 'Brian Kim', '41', 'Male', '60000', '2012-09-01'],\n",
       " ['013', '107', 'Emily Lee', '32', 'Female', '46000', '2019-04-01'],\n",
       " ['014', '106', 'Michael Lee', '29', 'Male', '53000', '2018-01-01'],\n",
       " ['015', '108', 'Kelly Zhang', '31', 'Female', '54000', '2017-06-01'],\n",
       " ['016', '109', 'George Wang', '35', 'Male', '57000', '2015-03-01'],\n",
       " ['017', '108', 'Nancy Liu', '28', 'Female', '52000', '2020-05-01'],\n",
       " ['019', '107', 'Steven Chen', '30', 'Male', '55000', '2018-03-01'],\n",
       " ['020', '102', 'Grace Kim', '32', 'Female', '53000', '2018-11-01']]"
      ]
     },
     "execution_count": 4,
     "metadata": {},
     "output_type": "execute_result"
    }
   ],
   "source": [
    "emp_data"
   ]
  },
  {
   "cell_type": "code",
   "execution_count": 5,
   "id": "e7f0efe0-16b6-481f-9ef7-05338be729e2",
   "metadata": {},
   "outputs": [],
   "source": [
    "dept_data = [\n",
    "    [\"101\", \"Sales\", \"NYC\", \"US\", \"1000000\"],\n",
    "    [\"102\", \"Marketing\", \"LA\", \"US\", \"1200000\"],\n",
    "    [\"103\", \"Finance\", \"London\", \"UK\", \"1300000\"],\n",
    "    [\"104\", \"Engineering\", \"Beijing\", \"China\", \"1500000\"],\n",
    "    [\"105\", \"Human Resources\", \"Tokyo\", \"Japan\", \"800000\"],\n",
    "    [\"106\", \"Research and Development\", \"Perth\", \"Australia\", \"1100000\"],\n",
    "    [\"107\", \"Customer Service\", \"Sydney\", \"Australia\", \"950000\"]\n",
    "]\n"
   ]
  },
  {
   "cell_type": "code",
   "execution_count": 6,
   "id": "5b0b0450-58c6-4f12-bc8e-4f8eeec0aa3a",
   "metadata": {},
   "outputs": [],
   "source": [
    "dept_schema = \"department_id string, department_name string, city string, country string, budget string\"\n"
   ]
  },
  {
   "cell_type": "code",
   "execution_count": 7,
   "id": "c63d3f3d-aace-4018-80ae-5183e27a362c",
   "metadata": {},
   "outputs": [
    {
     "data": {
      "text/plain": [
       "'department_id string, department_name string, city string, country string, budget string'"
      ]
     },
     "execution_count": 7,
     "metadata": {},
     "output_type": "execute_result"
    }
   ],
   "source": [
    "dept_schema"
   ]
  },
  {
   "cell_type": "code",
   "execution_count": 8,
   "id": "3b135216-f314-4fd8-949d-e79ba88cd47d",
   "metadata": {},
   "outputs": [],
   "source": [
    "emp = spark.createDataFrame(data=emp_data, schema=emp_schema)\n",
    "dept = spark.createDataFrame(data=dept_data, schema=dept_schema)\n"
   ]
  },
  {
   "cell_type": "code",
   "execution_count": 9,
   "id": "6915770c-dbcd-42f8-bfb9-d540db8b73b6",
   "metadata": {},
   "outputs": [
    {
     "name": "stdout",
     "output_type": "stream",
     "text": [
      "root\n",
      " |-- employee_id: string (nullable = true)\n",
      " |-- department_id: string (nullable = true)\n",
      " |-- name: string (nullable = true)\n",
      " |-- age: string (nullable = true)\n",
      " |-- gender: string (nullable = true)\n",
      " |-- salary: string (nullable = true)\n",
      " |-- hire_date: string (nullable = true)\n",
      "\n",
      "root\n",
      " |-- department_id: string (nullable = true)\n",
      " |-- department_name: string (nullable = true)\n",
      " |-- city: string (nullable = true)\n",
      " |-- country: string (nullable = true)\n",
      " |-- budget: string (nullable = true)\n",
      "\n"
     ]
    }
   ],
   "source": [
    "emp.printSchema()\n",
    "dept.printSchema()"
   ]
  },
  {
   "cell_type": "code",
   "execution_count": 10,
   "id": "92d61e6f-4f99-4436-a92b-7e9e07e8ac1b",
   "metadata": {},
   "outputs": [
    {
     "name": "stderr",
     "output_type": "stream",
     "text": [
      "                                                                                \r"
     ]
    },
    {
     "name": "stdout",
     "output_type": "stream",
     "text": [
      "+-----------+-------------+-----------+---+------+------+----------+\n",
      "|employee_id|department_id|       name|age|gender|salary| hire_date|\n",
      "+-----------+-------------+-----------+---+------+------+----------+\n",
      "|        001|          101| Jane Smith| 25|Female| 45000|2016-02-15|\n",
      "|        002|          102|  Bob Brown| 35|  Male| 55000|2014-01-10|\n",
      "|        003|          101|  Alice Lee| 30|Female| 48000|2018-05-21|\n",
      "|        004|          103| Jack Chang| 40|  Male| 60000|2013-04-01|\n",
      "|        005|          102|  Jill Wong| 28|Female| 50000|2017-01-05|\n",
      "|        006|          101| James Hong| 34|  Male| 52000|2016-07-15|\n",
      "|        007|          102|   Kate Kim| 29|Female| 51000|2019-08-01|\n",
      "|        008|          103|    Tom Tan| 36|  Male| 58000|2015-12-01|\n",
      "|        009|          101|   Lisa Lee| 27|Female| 47000|2017-11-01|\n",
      "|        010|          104| David Park| 38|  Male| 59000|2014-06-01|\n",
      "|        011|          105| Susan Chen| 33|Female| 56000|2016-03-01|\n",
      "|        012|          103|  Brian Kim| 41|  Male| 60000|2012-09-01|\n",
      "|        013|          107|  Emily Lee| 32|Female| 46000|2019-04-01|\n",
      "|        014|          106|Michael Lee| 29|  Male| 53000|2018-01-01|\n",
      "|        015|          108|Kelly Zhang| 31|Female| 54000|2017-06-01|\n",
      "|        016|          109|George Wang| 35|  Male| 57000|2015-03-01|\n",
      "|        017|          108|  Nancy Liu| 28|Female| 52000|2020-05-01|\n",
      "|        019|          107|Steven Chen| 30|  Male| 55000|2018-03-01|\n",
      "|        020|          102|  Grace Kim| 32|Female| 53000|2018-11-01|\n",
      "+-----------+-------------+-----------+---+------+------+----------+\n",
      "\n",
      "+-------------+--------------------+-------+---------+-------+\n",
      "|department_id|     department_name|   city|  country| budget|\n",
      "+-------------+--------------------+-------+---------+-------+\n",
      "|          101|               Sales|    NYC|       US|1000000|\n",
      "|          102|           Marketing|     LA|       US|1200000|\n",
      "|          103|             Finance| London|       UK|1300000|\n",
      "|          104|         Engineering|Beijing|    China|1500000|\n",
      "|          105|     Human Resources|  Tokyo|    Japan| 800000|\n",
      "|          106|Research and Deve...|  Perth|Australia|1100000|\n",
      "|          107|    Customer Service| Sydney|Australia| 950000|\n",
      "+-------------+--------------------+-------+---------+-------+\n",
      "\n"
     ]
    }
   ],
   "source": [
    "emp.show()\n",
    "dept.show()"
   ]
  },
  {
   "cell_type": "code",
   "execution_count": 11,
   "id": "54c06a26-6600-44d9-9622-c03d39f7eefc",
   "metadata": {},
   "outputs": [
    {
     "data": {
      "text/plain": [
       "4"
      ]
     },
     "execution_count": 11,
     "metadata": {},
     "output_type": "execute_result"
    }
   ],
   "source": [
    "emp.rdd.getNumPartitions()"
   ]
  },
  {
   "cell_type": "code",
   "execution_count": 12,
   "id": "a9d1b52c-42f1-4245-8a4d-f7f119f2f6e5",
   "metadata": {},
   "outputs": [
    {
     "data": {
      "text/plain": [
       "4"
      ]
     },
     "execution_count": 12,
     "metadata": {},
     "output_type": "execute_result"
    }
   ],
   "source": [
    "dept.rdd.getNumPartitions()"
   ]
  },
  {
   "cell_type": "code",
   "execution_count": 13,
   "id": "31ba4ea8-4848-4080-901e-03abfb9b54ee",
   "metadata": {},
   "outputs": [],
   "source": [
    "\n",
    "\n",
    "emp_partitoned = emp.repartition(10)"
   ]
  },
  {
   "cell_type": "code",
   "execution_count": 14,
   "id": "4a2cc5aa-d8c4-4b47-a4a3-3a854ed23ec7",
   "metadata": {},
   "outputs": [
    {
     "name": "stderr",
     "output_type": "stream",
     "text": [
      "[Stage 4:>                                                          (0 + 4) / 4]\r"
     ]
    },
    {
     "data": {
      "text/plain": [
       "10"
      ]
     },
     "execution_count": 14,
     "metadata": {},
     "output_type": "execute_result"
    }
   ],
   "source": [
    "emp_partitoned.rdd.getNumPartitions()"
   ]
  },
  {
   "cell_type": "code",
   "execution_count": 15,
   "id": "1ab85a61-cd6b-4e96-b600-2a2c5fe760de",
   "metadata": {},
   "outputs": [],
   "source": [
    "\n",
    "emp_partitoned = emp.repartition(4)"
   ]
  },
  {
   "cell_type": "code",
   "execution_count": 16,
   "id": "6da93305-7679-4c9e-b0c3-edebd2d5f8cc",
   "metadata": {},
   "outputs": [
    {
     "name": "stderr",
     "output_type": "stream",
     "text": [
      "[Stage 5:=============================>                             (2 + 2) / 4]\r"
     ]
    },
    {
     "data": {
      "text/plain": [
       "4"
      ]
     },
     "execution_count": 16,
     "metadata": {},
     "output_type": "execute_result"
    }
   ],
   "source": [
    "emp_partitoned.rdd.getNumPartitions()"
   ]
  },
  {
   "cell_type": "code",
   "execution_count": 17,
   "id": "c5854784-279f-4e21-bd58-05015c27f0c0",
   "metadata": {},
   "outputs": [],
   "source": [
    "emp_partitoned = emp.coalesce(5)"
   ]
  },
  {
   "cell_type": "code",
   "execution_count": 18,
   "id": "6deff79c-74c7-4855-9f93-06d2d40853a9",
   "metadata": {},
   "outputs": [
    {
     "data": {
      "text/plain": [
       "4"
      ]
     },
     "execution_count": 18,
     "metadata": {},
     "output_type": "execute_result"
    }
   ],
   "source": [
    "emp_partitoned.rdd.getNumPartitions()"
   ]
  },
  {
   "cell_type": "code",
   "execution_count": 19,
   "id": "5e6b1f6e-4636-4eb2-8ec9-3f9c84a10cdc",
   "metadata": {},
   "outputs": [],
   "source": [
    "emp_partitoned = emp.coalesce(2)"
   ]
  },
  {
   "cell_type": "code",
   "execution_count": 20,
   "id": "dee33288-03bb-4c4e-8095-0697eab3586d",
   "metadata": {},
   "outputs": [
    {
     "data": {
      "text/plain": [
       "2"
      ]
     },
     "execution_count": 20,
     "metadata": {},
     "output_type": "execute_result"
    }
   ],
   "source": [
    "emp_partitoned.rdd.getNumPartitions()"
   ]
  },
  {
   "cell_type": "code",
   "execution_count": 21,
   "id": "2c657be4-fa6d-480d-9509-3c9d2ed9f4dc",
   "metadata": {},
   "outputs": [],
   "source": [
    "\n",
    "emp_partitoned = emp.repartition(2,\"department_id\")"
   ]
  },
  {
   "cell_type": "code",
   "execution_count": 22,
   "id": "35fd047f-1048-4e60-9718-670d8a249df3",
   "metadata": {},
   "outputs": [
    {
     "name": "stderr",
     "output_type": "stream",
     "text": [
      "[Stage 6:>                                                          (0 + 4) / 4]\r"
     ]
    },
    {
     "data": {
      "text/plain": [
       "2"
      ]
     },
     "execution_count": 22,
     "metadata": {},
     "output_type": "execute_result"
    }
   ],
   "source": [
    "emp_partitoned.rdd.getNumPartitions()"
   ]
  },
  {
   "cell_type": "code",
   "execution_count": 23,
   "id": "46ca8d44-b721-40c3-bf6a-71a6bcc78fad",
   "metadata": {},
   "outputs": [
    {
     "name": "stderr",
     "output_type": "stream",
     "text": [
      "[Stage 7:==============>                                            (1 + 3) / 4]\r"
     ]
    },
    {
     "name": "stdout",
     "output_type": "stream",
     "text": [
      "+-----------+-------------+-----------+---+------+------+----------+------------+\n",
      "|employee_id|department_id|       name|age|gender|salary| hire_date|Partition No|\n",
      "+-----------+-------------+-----------+---+------+------+----------+------------+\n",
      "|        002|          102|  Bob Brown| 35|  Male| 55000|2014-01-10|           0|\n",
      "|        005|          102|  Jill Wong| 28|Female| 50000|2017-01-05|           0|\n",
      "|        007|          102|   Kate Kim| 29|Female| 51000|2019-08-01|           0|\n",
      "|        013|          107|  Emily Lee| 32|Female| 46000|2019-04-01|           0|\n",
      "|        019|          107|Steven Chen| 30|  Male| 55000|2018-03-01|           0|\n",
      "|        020|          102|  Grace Kim| 32|Female| 53000|2018-11-01|           0|\n",
      "|        011|          105| Susan Chen| 33|Female| 56000|2016-03-01|           1|\n",
      "|        016|          109|George Wang| 35|  Male| 57000|2015-03-01|           1|\n",
      "|        010|          104| David Park| 38|  Male| 59000|2014-06-01|           2|\n",
      "|        014|          106|Michael Lee| 29|  Male| 53000|2018-01-01|           2|\n",
      "|        001|          101| Jane Smith| 25|Female| 45000|2016-02-15|           3|\n",
      "|        003|          101|  Alice Lee| 30|Female| 48000|2018-05-21|           3|\n",
      "|        004|          103| Jack Chang| 40|  Male| 60000|2013-04-01|           3|\n",
      "|        006|          101| James Hong| 34|  Male| 52000|2016-07-15|           3|\n",
      "|        008|          103|    Tom Tan| 36|  Male| 58000|2015-12-01|           3|\n",
      "|        009|          101|   Lisa Lee| 27|Female| 47000|2017-11-01|           3|\n",
      "|        012|          103|  Brian Kim| 41|  Male| 60000|2012-09-01|           3|\n",
      "|        015|          108|Kelly Zhang| 31|Female| 54000|2017-06-01|           3|\n",
      "|        017|          108|  Nancy Liu| 28|Female| 52000|2020-05-01|           3|\n",
      "+-----------+-------------+-----------+---+------+------+----------+------------+\n",
      "\n"
     ]
    },
    {
     "name": "stderr",
     "output_type": "stream",
     "text": [
      "                                                                                \r"
     ]
    }
   ],
   "source": [
    "#find the partitions info  for partition and repartition\n",
    "\n",
    "from pyspark.sql.functions import spark_partition_id\n",
    "emp1 = emp.repartition(4,\"department_id\").withColumn(\"Partition No\", spark_partition_id())\n",
    "emp1.show()\n"
   ]
  },
  {
   "cell_type": "code",
   "execution_count": null,
   "id": "06c2713e-5c80-4298-b25b-945ef6089feb",
   "metadata": {},
   "outputs": [],
   "source": []
  },
  {
   "cell_type": "code",
   "execution_count": 24,
   "id": "b2c94f61-aa36-47ae-836b-4de63b51673e",
   "metadata": {},
   "outputs": [
    {
     "data": {
      "text/plain": [
       "DataFrame[employee_id: string, department_id: string, name: string, age: string, gender: string, salary: string, hire_date: string, department_id: string, department_name: string, city: string, country: string, budget: string]"
      ]
     },
     "execution_count": 24,
     "metadata": {},
     "output_type": "execute_result"
    }
   ],
   "source": [
    "#JOINS in pyspark\n",
    "\n",
    "# SELECT e.emp_id, d.dept_id from employee as e inner join department as d on e.dept_id = d.dept_id where salary > 50000;\n",
    "\n",
    "df_joined = emp.join(dept,how = \"inner\", on = emp.department_id == dept.department_id)\n",
    "df_joined"
   ]
  },
  {
   "cell_type": "code",
   "execution_count": 25,
   "id": "ed316848-a605-48c6-adb5-4a7751e56ae7",
   "metadata": {},
   "outputs": [
    {
     "name": "stderr",
     "output_type": "stream",
     "text": [
      "[Stage 11:===========================================>              (3 + 1) / 4]\r"
     ]
    },
    {
     "name": "stdout",
     "output_type": "stream",
     "text": [
      "+-----------+-----------+-------------+--------------------+------+\n",
      "|employee_id|       name|department_id|     department_name|salary|\n",
      "+-----------+-----------+-------------+--------------------+------+\n",
      "|        003|  Alice Lee|          101|               Sales| 48000|\n",
      "|        006| James Hong|          101|               Sales| 52000|\n",
      "|        009|   Lisa Lee|          101|               Sales| 47000|\n",
      "|        002|  Bob Brown|          102|           Marketing| 55000|\n",
      "|        005|  Jill Wong|          102|           Marketing| 50000|\n",
      "|        007|   Kate Kim|          102|           Marketing| 51000|\n",
      "|        020|  Grace Kim|          102|           Marketing| 53000|\n",
      "|        004| Jack Chang|          103|             Finance| 60000|\n",
      "|        008|    Tom Tan|          103|             Finance| 58000|\n",
      "|        012|  Brian Kim|          103|             Finance| 60000|\n",
      "|        010| David Park|          104|         Engineering| 59000|\n",
      "|        011| Susan Chen|          105|     Human Resources| 56000|\n",
      "|        014|Michael Lee|          106|Research and Deve...| 53000|\n",
      "|        013|  Emily Lee|          107|    Customer Service| 46000|\n",
      "|        019|Steven Chen|          107|    Customer Service| 55000|\n",
      "+-----------+-----------+-------------+--------------------+------+\n",
      "\n"
     ]
    },
    {
     "name": "stderr",
     "output_type": "stream",
     "text": [
      "                                                                                \r"
     ]
    }
   ],
   "source": [
    "df_joined.select(emp.employee_id,emp.name,dept.department_id,dept.department_name,emp.salary).where(\"salary > 45000\").show()"
   ]
  },
  {
   "cell_type": "code",
   "execution_count": 27,
   "id": "12fb78cd-8272-43de-bda9-c8e146e264bd",
   "metadata": {},
   "outputs": [
    {
     "data": {
      "text/plain": [
       "DataFrame[employee_id: string, department_id: string, name: string, age: string, gender: string, salary: string, hire_date: string, department_id: string, department_name: string, city: string, country: string, budget: string]"
      ]
     },
     "execution_count": 27,
     "metadata": {},
     "output_type": "execute_result"
    }
   ],
   "source": [
    "df_joined1 = emp.alias(\"e\").join(dept.alias(\"d\"),how = \"inner\", on = emp.department_id == dept.department_id)\n",
    "df_joined1"
   ]
  },
  {
   "cell_type": "code",
   "execution_count": 28,
   "id": "0e9ba322-cbf1-4b95-9122-e621afbd7d53",
   "metadata": {},
   "outputs": [
    {
     "name": "stderr",
     "output_type": "stream",
     "text": [
      "[Stage 16:==============>                                           (1 + 3) / 4]\r"
     ]
    },
    {
     "name": "stdout",
     "output_type": "stream",
     "text": [
      "+-----------+-----------+-------------+--------------------+------+\n",
      "|employee_id|       name|department_id|     department_name|salary|\n",
      "+-----------+-----------+-------------+--------------------+------+\n",
      "|        003|  Alice Lee|          101|               Sales| 48000|\n",
      "|        006| James Hong|          101|               Sales| 52000|\n",
      "|        009|   Lisa Lee|          101|               Sales| 47000|\n",
      "|        002|  Bob Brown|          102|           Marketing| 55000|\n",
      "|        005|  Jill Wong|          102|           Marketing| 50000|\n",
      "|        007|   Kate Kim|          102|           Marketing| 51000|\n",
      "|        020|  Grace Kim|          102|           Marketing| 53000|\n",
      "|        004| Jack Chang|          103|             Finance| 60000|\n",
      "|        008|    Tom Tan|          103|             Finance| 58000|\n",
      "|        012|  Brian Kim|          103|             Finance| 60000|\n",
      "|        010| David Park|          104|         Engineering| 59000|\n",
      "|        011| Susan Chen|          105|     Human Resources| 56000|\n",
      "|        014|Michael Lee|          106|Research and Deve...| 53000|\n",
      "|        013|  Emily Lee|          107|    Customer Service| 46000|\n",
      "|        019|Steven Chen|          107|    Customer Service| 55000|\n",
      "+-----------+-----------+-------------+--------------------+------+\n",
      "\n"
     ]
    },
    {
     "name": "stderr",
     "output_type": "stream",
     "text": [
      "                                                                                \r"
     ]
    }
   ],
   "source": [
    "df_joined1.select(\"e.employee_id\",emp.name,dept.department_id,dept.department_name,emp.salary).where(\"salary > 45000\").show()"
   ]
  },
  {
   "cell_type": "code",
   "execution_count": 31,
   "id": "33dad5b9-37b7-4f28-9d72-5912a775742d",
   "metadata": {},
   "outputs": [
    {
     "data": {
      "text/plain": [
       "DataFrame[employee_id: string, department_id: string, name: string, age: string, gender: string, salary: string, hire_date: string, department_id: string, department_name: string, city: string, country: string, budget: string]"
      ]
     },
     "execution_count": 31,
     "metadata": {},
     "output_type": "execute_result"
    }
   ],
   "source": [
    "df_joined_left_outer = emp.alias(\"e\").join(dept.alias(\"d\"),how = \"left_outer\", on = emp.department_id == dept.department_id)\n",
    "df_joined_left_outer"
   ]
  },
  {
   "cell_type": "code",
   "execution_count": 32,
   "id": "87bef40b-2ce6-4345-9481-3e574d04d0e1",
   "metadata": {},
   "outputs": [
    {
     "name": "stderr",
     "output_type": "stream",
     "text": [
      "                                                                                \r"
     ]
    },
    {
     "name": "stdout",
     "output_type": "stream",
     "text": [
      "+-----------+-----------+-------------+--------------------+------+\n",
      "|employee_id|       name|department_id|     department_name|salary|\n",
      "+-----------+-----------+-------------+--------------------+------+\n",
      "|        003|  Alice Lee|          101|               Sales| 48000|\n",
      "|        002|  Bob Brown|          102|           Marketing| 55000|\n",
      "|        004| Jack Chang|          103|             Finance| 60000|\n",
      "|        006| James Hong|          101|               Sales| 52000|\n",
      "|        005|  Jill Wong|          102|           Marketing| 50000|\n",
      "|        007|   Kate Kim|          102|           Marketing| 51000|\n",
      "|        008|    Tom Tan|          103|             Finance| 58000|\n",
      "|        009|   Lisa Lee|          101|               Sales| 47000|\n",
      "|        010| David Park|          104|         Engineering| 59000|\n",
      "|        012|  Brian Kim|          103|             Finance| 60000|\n",
      "|        011| Susan Chen|          105|     Human Resources| 56000|\n",
      "|        013|  Emily Lee|          107|    Customer Service| 46000|\n",
      "|        019|Steven Chen|          107|    Customer Service| 55000|\n",
      "|        020|  Grace Kim|          102|           Marketing| 53000|\n",
      "|        015|Kelly Zhang|         NULL|                NULL| 54000|\n",
      "|        017|  Nancy Liu|         NULL|                NULL| 52000|\n",
      "|        014|Michael Lee|          106|Research and Deve...| 53000|\n",
      "|        016|George Wang|         NULL|                NULL| 57000|\n",
      "+-----------+-----------+-------------+--------------------+------+\n",
      "\n"
     ]
    }
   ],
   "source": [
    "df_joined_left_outer.select(\"e.employee_id\",emp.name,dept.department_id,dept.department_name,emp.salary).where(\"salary > 45000\").show()"
   ]
  },
  {
   "cell_type": "code",
   "execution_count": 40,
   "id": "7a8023d1-929d-48ab-b107-da1355b4559b",
   "metadata": {},
   "outputs": [
    {
     "data": {
      "text/plain": [
       "DataFrame[employee_id: string, department_id: string, name: string, age: string, gender: string, salary: string, hire_date: string, department_id: string, department_name: string, city: string, country: string, budget: string]"
      ]
     },
     "execution_count": 40,
     "metadata": {},
     "output_type": "execute_result"
    }
   ],
   "source": [
    "#casading join conditions\n",
    "\n",
    "df_joined_left = emp.alias(\"e\").join(dept,how = \"left_outer\", on = (emp.department_id == dept.department_id) & ((emp.department_id == \"101\") | (emp.department_id == \"102\"))\n",
    "                                     & (emp.salary.isNotNull()))\n",
    "df_joined_left\n"
   ]
  },
  {
   "cell_type": "code",
   "execution_count": 41,
   "id": "bb51c384-d6f7-4a6e-8b71-db67d08cc246",
   "metadata": {
    "scrolled": true
   },
   "outputs": [
    {
     "name": "stderr",
     "output_type": "stream",
     "text": [
      "                                                                                \r"
     ]
    },
    {
     "name": "stdout",
     "output_type": "stream",
     "text": [
      "+-----------+-------------+-----------+---+------+------+----------+-------------+---------------+----+-------+-------+\n",
      "|employee_id|department_id|       name|age|gender|salary| hire_date|department_id|department_name|city|country| budget|\n",
      "+-----------+-------------+-----------+---+------+------+----------+-------------+---------------+----+-------+-------+\n",
      "|        001|          101| Jane Smith| 25|Female| 45000|2016-02-15|          101|          Sales| NYC|     US|1000000|\n",
      "|        003|          101|  Alice Lee| 30|Female| 48000|2018-05-21|          101|          Sales| NYC|     US|1000000|\n",
      "|        002|          102|  Bob Brown| 35|  Male| 55000|2014-01-10|          102|      Marketing|  LA|     US|1200000|\n",
      "|        004|          103| Jack Chang| 40|  Male| 60000|2013-04-01|         NULL|           NULL|NULL|   NULL|   NULL|\n",
      "|        006|          101| James Hong| 34|  Male| 52000|2016-07-15|          101|          Sales| NYC|     US|1000000|\n",
      "|        005|          102|  Jill Wong| 28|Female| 50000|2017-01-05|          102|      Marketing|  LA|     US|1200000|\n",
      "|        007|          102|   Kate Kim| 29|Female| 51000|2019-08-01|          102|      Marketing|  LA|     US|1200000|\n",
      "|        008|          103|    Tom Tan| 36|  Male| 58000|2015-12-01|         NULL|           NULL|NULL|   NULL|   NULL|\n",
      "|        009|          101|   Lisa Lee| 27|Female| 47000|2017-11-01|          101|          Sales| NYC|     US|1000000|\n",
      "|        010|          104| David Park| 38|  Male| 59000|2014-06-01|         NULL|           NULL|NULL|   NULL|   NULL|\n",
      "|        012|          103|  Brian Kim| 41|  Male| 60000|2012-09-01|         NULL|           NULL|NULL|   NULL|   NULL|\n",
      "|        011|          105| Susan Chen| 33|Female| 56000|2016-03-01|         NULL|           NULL|NULL|   NULL|   NULL|\n",
      "|        013|          107|  Emily Lee| 32|Female| 46000|2019-04-01|         NULL|           NULL|NULL|   NULL|   NULL|\n",
      "|        019|          107|Steven Chen| 30|  Male| 55000|2018-03-01|         NULL|           NULL|NULL|   NULL|   NULL|\n",
      "|        020|          102|  Grace Kim| 32|Female| 53000|2018-11-01|          102|      Marketing|  LA|     US|1200000|\n",
      "|        015|          108|Kelly Zhang| 31|Female| 54000|2017-06-01|         NULL|           NULL|NULL|   NULL|   NULL|\n",
      "|        017|          108|  Nancy Liu| 28|Female| 52000|2020-05-01|         NULL|           NULL|NULL|   NULL|   NULL|\n",
      "|        014|          106|Michael Lee| 29|  Male| 53000|2018-01-01|         NULL|           NULL|NULL|   NULL|   NULL|\n",
      "|        016|          109|George Wang| 35|  Male| 57000|2015-03-01|         NULL|           NULL|NULL|   NULL|   NULL|\n",
      "+-----------+-------------+-----------+---+------+------+----------+-------------+---------------+----+-------+-------+\n",
      "\n"
     ]
    }
   ],
   "source": [
    "df_joined_left.show()"
   ]
  },
  {
   "cell_type": "code",
   "execution_count": 42,
   "id": "8a1a557a-7987-4ea7-9cc2-89e3d93a9d20",
   "metadata": {},
   "outputs": [
    {
     "data": {
      "text/plain": [
       "DataFrame[employee_id: string, department_id: string, name: string, age: string, gender: string, salary: string, hire_date: string, department_id: string, department_name: string, city: string, country: string, budget: string]"
      ]
     },
     "execution_count": 42,
     "metadata": {},
     "output_type": "execute_result"
    }
   ],
   "source": [
    "#casading join conditions\n",
    "\n",
    "df_joined_left1 = emp.alias(\"e\").join(dept,how = \"left_outer\", on = (emp.department_id == dept.department_id) & ((emp.department_id == \"101\") | (emp.department_id == \"102\"))\n",
    "                                     & (emp.salary.isNull()))\n",
    "df_joined_left1\n"
   ]
  },
  {
   "cell_type": "code",
   "execution_count": 43,
   "id": "4c36a08f-b155-4ccd-931b-d68d9dfd250d",
   "metadata": {},
   "outputs": [
    {
     "name": "stderr",
     "output_type": "stream",
     "text": [
      "                                                                                \r"
     ]
    },
    {
     "name": "stdout",
     "output_type": "stream",
     "text": [
      "+-----------+-------------+-----------+---+------+------+----------+-------------+---------------+----+-------+------+\n",
      "|employee_id|department_id|       name|age|gender|salary| hire_date|department_id|department_name|city|country|budget|\n",
      "+-----------+-------------+-----------+---+------+------+----------+-------------+---------------+----+-------+------+\n",
      "|        001|          101| Jane Smith| 25|Female| 45000|2016-02-15|         NULL|           NULL|NULL|   NULL|  NULL|\n",
      "|        003|          101|  Alice Lee| 30|Female| 48000|2018-05-21|         NULL|           NULL|NULL|   NULL|  NULL|\n",
      "|        002|          102|  Bob Brown| 35|  Male| 55000|2014-01-10|         NULL|           NULL|NULL|   NULL|  NULL|\n",
      "|        004|          103| Jack Chang| 40|  Male| 60000|2013-04-01|         NULL|           NULL|NULL|   NULL|  NULL|\n",
      "|        006|          101| James Hong| 34|  Male| 52000|2016-07-15|         NULL|           NULL|NULL|   NULL|  NULL|\n",
      "|        005|          102|  Jill Wong| 28|Female| 50000|2017-01-05|         NULL|           NULL|NULL|   NULL|  NULL|\n",
      "|        007|          102|   Kate Kim| 29|Female| 51000|2019-08-01|         NULL|           NULL|NULL|   NULL|  NULL|\n",
      "|        008|          103|    Tom Tan| 36|  Male| 58000|2015-12-01|         NULL|           NULL|NULL|   NULL|  NULL|\n",
      "|        009|          101|   Lisa Lee| 27|Female| 47000|2017-11-01|         NULL|           NULL|NULL|   NULL|  NULL|\n",
      "|        010|          104| David Park| 38|  Male| 59000|2014-06-01|         NULL|           NULL|NULL|   NULL|  NULL|\n",
      "|        012|          103|  Brian Kim| 41|  Male| 60000|2012-09-01|         NULL|           NULL|NULL|   NULL|  NULL|\n",
      "|        011|          105| Susan Chen| 33|Female| 56000|2016-03-01|         NULL|           NULL|NULL|   NULL|  NULL|\n",
      "|        013|          107|  Emily Lee| 32|Female| 46000|2019-04-01|         NULL|           NULL|NULL|   NULL|  NULL|\n",
      "|        019|          107|Steven Chen| 30|  Male| 55000|2018-03-01|         NULL|           NULL|NULL|   NULL|  NULL|\n",
      "|        020|          102|  Grace Kim| 32|Female| 53000|2018-11-01|         NULL|           NULL|NULL|   NULL|  NULL|\n",
      "|        015|          108|Kelly Zhang| 31|Female| 54000|2017-06-01|         NULL|           NULL|NULL|   NULL|  NULL|\n",
      "|        017|          108|  Nancy Liu| 28|Female| 52000|2020-05-01|         NULL|           NULL|NULL|   NULL|  NULL|\n",
      "|        014|          106|Michael Lee| 29|  Male| 53000|2018-01-01|         NULL|           NULL|NULL|   NULL|  NULL|\n",
      "|        016|          109|George Wang| 35|  Male| 57000|2015-03-01|         NULL|           NULL|NULL|   NULL|  NULL|\n",
      "+-----------+-------------+-----------+---+------+------+----------+-------------+---------------+----+-------+------+\n",
      "\n"
     ]
    }
   ],
   "source": [
    "df_joined_left1.show()"
   ]
  },
  {
   "cell_type": "code",
   "execution_count": null,
   "id": "b72d377b-c0c8-4768-bed3-c16c56107921",
   "metadata": {},
   "outputs": [],
   "source": []
  }
 ],
 "metadata": {
  "kernelspec": {
   "display_name": "Python 3 (ipykernel)",
   "language": "python",
   "name": "python3"
  },
  "language_info": {
   "codemirror_mode": {
    "name": "ipython",
    "version": 3
   },
   "file_extension": ".py",
   "mimetype": "text/x-python",
   "name": "python",
   "nbconvert_exporter": "python",
   "pygments_lexer": "ipython3",
   "version": "3.10.12"
  }
 },
 "nbformat": 4,
 "nbformat_minor": 5
}
