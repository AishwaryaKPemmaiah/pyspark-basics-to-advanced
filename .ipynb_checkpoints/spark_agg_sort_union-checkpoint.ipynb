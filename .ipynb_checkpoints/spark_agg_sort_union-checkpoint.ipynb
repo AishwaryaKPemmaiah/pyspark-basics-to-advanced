{
 "cells": [
  {
   "cell_type": "code",
   "execution_count": 1,
   "id": "e2c60e5a-7fd1-485b-88a1-d3e617b2296a",
   "metadata": {},
   "outputs": [
    {
     "name": "stderr",
     "output_type": "stream",
     "text": [
      "25/05/17 10:10:22 WARN Utils: Your hostname, oem-Lenovo-G50-80 resolves to a loopback address: 127.0.1.1; using 192.168.0.121 instead (on interface wlp3s0)\n",
      "25/05/17 10:10:22 WARN Utils: Set SPARK_LOCAL_IP if you need to bind to another address\n",
      "Setting default log level to \"WARN\".\n",
      "To adjust logging level use sc.setLogLevel(newLevel). For SparkR, use setLogLevel(newLevel).\n",
      "25/05/17 10:10:24 WARN NativeCodeLoader: Unable to load native-hadoop library for your platform... using builtin-java classes where applicable\n"
     ]
    }
   ],
   "source": [
    "from pyspark.sql import SparkSession\n",
    "spark = (SparkSession.\\\n",
    "         builder.\\\n",
    "         appName(\"Sorting and Agregation\").\\\n",
    "         master(\"local[*]\").\\\n",
    "         getOrCreate()\n",
    "        )\n",
    "         "
   ]
  },
  {
   "cell_type": "code",
   "execution_count": 4,
   "id": "74289482-e30e-497a-b8b0-c70c07ca84f4",
   "metadata": {},
   "outputs": [
    {
     "data": {
      "text/html": [
       "\n",
       "            <div>\n",
       "                <p><b>SparkSession - in-memory</b></p>\n",
       "                \n",
       "        <div>\n",
       "            <p><b>SparkContext</b></p>\n",
       "\n",
       "            <p><a href=\"http://192.168.0.121:4040\">Spark UI</a></p>\n",
       "\n",
       "            <dl>\n",
       "              <dt>Version</dt>\n",
       "                <dd><code>v3.5.5</code></dd>\n",
       "              <dt>Master</dt>\n",
       "                <dd><code>local[*]</code></dd>\n",
       "              <dt>AppName</dt>\n",
       "                <dd><code>Sorting and Agregation</code></dd>\n",
       "            </dl>\n",
       "        </div>\n",
       "        \n",
       "            </div>\n",
       "        "
      ],
      "text/plain": [
       "<pyspark.sql.session.SparkSession at 0x79dea3e18a30>"
      ]
     },
     "execution_count": 4,
     "metadata": {},
     "output_type": "execute_result"
    }
   ],
   "source": [
    "spark"
   ]
  },
  {
   "cell_type": "code",
   "execution_count": 10,
   "id": "f9d368dc-a02d-4316-b620-e9d265599a89",
   "metadata": {},
   "outputs": [],
   "source": [
    "emp_data_1 = [\n",
    "    [\"001\", \"101\", \"John Doe\", \"30\", \"Male\", \"50000\", \"2015-01-01\"],\n",
    "    [\"002\", \"101\", \"Jane Smith\", \"25\", \"Female\", \"45000\", \"2016-02-15\"],\n",
    "    [\"003\", \"101\", \"Bob Brown\", \"35\", \"Male\", \"55000\", \"2014-01-10\"],\n",
    "    [\"004\", \"101\", \"Alice Lee\", \"29\", \"Female\", \"48000\", \"2013-04-01\"],\n",
    "    [\"005\", \"102\", \"Jack Chan\", \"40\", \"Male\", \"60000\", \"2013-04-01\"],\n",
    "    [\"006\", \"102\", \"Jill Wong\", \"32\", \"Female\", \"52000\", \"2018-07-01\"],\n",
    "    [\"007\", \"102\", \"James Johnson\", \"42\", \"Male\", \"70000\", \"2012-03-15\"],\n",
    "    [\"008\", \"102\", \"Kate Kim\", \"29\", \"Female\", \"51000\", \"2019-10-01\"],\n",
    "    [\"009\", \"103\", \"Tom Tan\", \"34\", \"Male\", \"50000\", \"2016-06-01\"],\n",
    "    [\"010\", \"103\", \"Lisa Lee\", \"27\", \"Female\", \"47000\", \"2018-08-01\"]\n",
    "]\n",
    "\n",
    "\n",
    "emp_data_2 = [\n",
    "    [\"011\", \"104\", \"David Park\", \"38\", \"Male\", \"65000\", \"2015-11-01\"],\n",
    "    [\"012\", \"105\", \"Susan Chen\", \"31\", \"Female\", \"54000\", \"2017-02-15\"],\n",
    "    [\"013\", \"106\", \"Brian Lim\", \"45\", \"Male\", \"75000\", \"2011-09-01\"],\n",
    "    [\"014\", \"106\", \"Emily Lee\", \"28\", \"Female\", \"53000\", \"2017-03-01\"],\n",
    "    [\"015\", \"106\", \"Michael Kee\", \"36\", \"Male\", \"62000\", \"2014-06-01\"],\n",
    "    [\"016\", \"107\", \"Kelly Zhang\", \"29\", \"Female\", \"49000\", \"2018-04-01\"],\n",
    "    [\"017\", \"108\", \"George Wang\", \"34\", \"Male\", \"60000\", \"2015-03-01\"],\n",
    "    [\"018\", \"108\", \"Nancy Liu\", \"30\", \"Female\", \"52000\", \"2016-01-01\"],\n",
    "    [\"019\", \"109\", \"Steven Chen\", \"37\", \"Male\", \"62000\", \"2015-08-01\"],\n",
    "    [\"020\", \"102\", \"Grace Kim\", \"32\", \"Female\", \"53000\", \"2018-11-01\"]\n",
    "]\n"
   ]
  },
  {
   "cell_type": "code",
   "execution_count": 11,
   "id": "e96726b4-bc7c-44af-9697-923e30a902e2",
   "metadata": {},
   "outputs": [],
   "source": [
    "emp_schema = \"employee_id string, department_id string, name string, age string, gender string, salary string, hire_date string\"\n"
   ]
  },
  {
   "cell_type": "code",
   "execution_count": 12,
   "id": "a600a521-0d68-44d7-a355-5251f795af21",
   "metadata": {},
   "outputs": [
    {
     "data": {
      "text/plain": [
       "'employee_id string, department_id string, name string, age string, gender string, salary string, hire_date string'"
      ]
     },
     "execution_count": 12,
     "metadata": {},
     "output_type": "execute_result"
    }
   ],
   "source": [
    "emp_schema"
   ]
  },
  {
   "cell_type": "code",
   "execution_count": 8,
   "id": "2da17390-2508-4272-b622-461c0fe741d4",
   "metadata": {},
   "outputs": [
    {
     "ename": "NameError",
     "evalue": "name 'emp1' is not defined",
     "output_type": "error",
     "traceback": [
      "\u001b[0;31m---------------------------------------------------------------------------\u001b[0m",
      "\u001b[0;31mNameError\u001b[0m                                 Traceback (most recent call last)",
      "\u001b[0;32m/tmp/ipykernel_16069/1159878818.py\u001b[0m in \u001b[0;36m<module>\u001b[0;34m\u001b[0m\n\u001b[0;32m----> 1\u001b[0;31m \u001b[0memp1\u001b[0m\u001b[0;34m.\u001b[0m\u001b[0mprintSchema\u001b[0m\u001b[0;34m(\u001b[0m\u001b[0;34m)\u001b[0m\u001b[0;34m\u001b[0m\u001b[0;34m\u001b[0m\u001b[0m\n\u001b[0m",
      "\u001b[0;31mNameError\u001b[0m: name 'emp1' is not defined"
     ]
    }
   ],
   "source": [
    "emp1.printSchema()"
   ]
  },
  {
   "cell_type": "code",
   "execution_count": 13,
   "id": "0fec156f-11db-4632-9751-48e97f126d72",
   "metadata": {},
   "outputs": [],
   "source": [
    "#create dataframes\n",
    "\n",
    "emp1 = spark.createDataFrame(data = emp_data_1, schema=emp_schema)\n",
    "emp2 = spark.createDataFrame(data = emp_data_2, schema=emp_schema)"
   ]
  },
  {
   "cell_type": "code",
   "execution_count": 14,
   "id": "f4916ce8-6838-49d3-a4b7-1005ddf347a1",
   "metadata": {},
   "outputs": [
    {
     "name": "stdout",
     "output_type": "stream",
     "text": [
      "root\n",
      " |-- employee_id: string (nullable = true)\n",
      " |-- department_id: string (nullable = true)\n",
      " |-- name: string (nullable = true)\n",
      " |-- age: string (nullable = true)\n",
      " |-- gender: string (nullable = true)\n",
      " |-- salary: string (nullable = true)\n",
      " |-- hire_date: string (nullable = true)\n",
      "\n"
     ]
    }
   ],
   "source": [
    "emp1.printSchema()"
   ]
  },
  {
   "cell_type": "code",
   "execution_count": 15,
   "id": "fe396ec3-2c61-4973-b95e-b3572f2000e5",
   "metadata": {},
   "outputs": [
    {
     "name": "stdout",
     "output_type": "stream",
     "text": [
      "root\n",
      " |-- employee_id: string (nullable = true)\n",
      " |-- department_id: string (nullable = true)\n",
      " |-- name: string (nullable = true)\n",
      " |-- age: string (nullable = true)\n",
      " |-- gender: string (nullable = true)\n",
      " |-- salary: string (nullable = true)\n",
      " |-- hire_date: string (nullable = true)\n",
      "\n"
     ]
    }
   ],
   "source": [
    "emp2.printSchema()"
   ]
  },
  {
   "cell_type": "code",
   "execution_count": 22,
   "id": "fcb35f2b-2758-4979-aea0-1244db62f169",
   "metadata": {},
   "outputs": [],
   "source": [
    "#union an dunionall   #same schema\n",
    "#union : unique or dstinct records \n",
    "#same schema but diffrent column sequence still we can do union of it\n",
    "emp_final = emp1.union(emp2)"
   ]
  },
  {
   "cell_type": "code",
   "execution_count": 23,
   "id": "d2e0682e-a445-4a2c-8ee1-fe0876d275da",
   "metadata": {},
   "outputs": [
    {
     "name": "stderr",
     "output_type": "stream",
     "text": [
      "                                                                                \r"
     ]
    },
    {
     "name": "stdout",
     "output_type": "stream",
     "text": [
      "+-----------+-------------+-------------+---+------+------+----------+\n",
      "|employee_id|department_id|         name|age|gender|salary| hire_date|\n",
      "+-----------+-------------+-------------+---+------+------+----------+\n",
      "|        001|          101|     John Doe| 30|  Male| 50000|2015-01-01|\n",
      "|        002|          101|   Jane Smith| 25|Female| 45000|2016-02-15|\n",
      "|        003|          101|    Bob Brown| 35|  Male| 55000|2014-01-10|\n",
      "|        004|          101|    Alice Lee| 29|Female| 48000|2013-04-01|\n",
      "|        005|          102|    Jack Chan| 40|  Male| 60000|2013-04-01|\n",
      "|        006|          102|    Jill Wong| 32|Female| 52000|2018-07-01|\n",
      "|        007|          102|James Johnson| 42|  Male| 70000|2012-03-15|\n",
      "|        008|          102|     Kate Kim| 29|Female| 51000|2019-10-01|\n",
      "|        009|          103|      Tom Tan| 34|  Male| 50000|2016-06-01|\n",
      "|        010|          103|     Lisa Lee| 27|Female| 47000|2018-08-01|\n",
      "|        011|          104|   David Park| 38|  Male| 65000|2015-11-01|\n",
      "|        012|          105|   Susan Chen| 31|Female| 54000|2017-02-15|\n",
      "|        013|          106|    Brian Lim| 45|  Male| 75000|2011-09-01|\n",
      "|        014|          106|    Emily Lee| 28|Female| 53000|2017-03-01|\n",
      "|        015|          106|  Michael Kee| 36|  Male| 62000|2014-06-01|\n",
      "|        016|          107|  Kelly Zhang| 29|Female| 49000|2018-04-01|\n",
      "|        017|          108|  George Wang| 34|  Male| 60000|2015-03-01|\n",
      "|        018|          108|    Nancy Liu| 30|Female| 52000|2016-01-01|\n",
      "|        019|          109|  Steven Chen| 37|  Male| 62000|2015-08-01|\n",
      "|        020|          102|    Grace Kim| 32|Female| 53000|2018-11-01|\n",
      "+-----------+-------------+-------------+---+------+------+----------+\n",
      "\n"
     ]
    }
   ],
   "source": [
    "emp_final.show()"
   ]
  },
  {
   "cell_type": "code",
   "execution_count": 20,
   "id": "54b1dcc2-92f0-46db-83e9-698a8c2df996",
   "metadata": {},
   "outputs": [],
   "source": [
    "#union all\n",
    "#keepa duplicates \n",
    "#deprecated\n",
    "emp_final1 = emp1.unionAll(emp2)"
   ]
  },
  {
   "cell_type": "code",
   "execution_count": 21,
   "id": "5ad0004a-96e1-4875-a2b6-d81e68ed5132",
   "metadata": {},
   "outputs": [
    {
     "name": "stderr",
     "output_type": "stream",
     "text": [
      "                                                                                \r"
     ]
    },
    {
     "name": "stdout",
     "output_type": "stream",
     "text": [
      "+-----------+-------------+-------------+---+------+------+----------+\n",
      "|employee_id|department_id|         name|age|gender|salary| hire_date|\n",
      "+-----------+-------------+-------------+---+------+------+----------+\n",
      "|        001|          101|     John Doe| 30|  Male| 50000|2015-01-01|\n",
      "|        002|          101|   Jane Smith| 25|Female| 45000|2016-02-15|\n",
      "|        003|          101|    Bob Brown| 35|  Male| 55000|2014-01-10|\n",
      "|        004|          101|    Alice Lee| 29|Female| 48000|2013-04-01|\n",
      "|        005|          102|    Jack Chan| 40|  Male| 60000|2013-04-01|\n",
      "|        006|          102|    Jill Wong| 32|Female| 52000|2018-07-01|\n",
      "|        007|          102|James Johnson| 42|  Male| 70000|2012-03-15|\n",
      "|        008|          102|     Kate Kim| 29|Female| 51000|2019-10-01|\n",
      "|        009|          103|      Tom Tan| 34|  Male| 50000|2016-06-01|\n",
      "|        010|          103|     Lisa Lee| 27|Female| 47000|2018-08-01|\n",
      "|        011|          104|   David Park| 38|  Male| 65000|2015-11-01|\n",
      "|        012|          105|   Susan Chen| 31|Female| 54000|2017-02-15|\n",
      "|        013|          106|    Brian Lim| 45|  Male| 75000|2011-09-01|\n",
      "|        014|          106|    Emily Lee| 28|Female| 53000|2017-03-01|\n",
      "|        015|          106|  Michael Kee| 36|  Male| 62000|2014-06-01|\n",
      "|        016|          107|  Kelly Zhang| 29|Female| 49000|2018-04-01|\n",
      "|        017|          108|  George Wang| 34|  Male| 60000|2015-03-01|\n",
      "|        018|          108|    Nancy Liu| 30|Female| 52000|2016-01-01|\n",
      "|        019|          109|  Steven Chen| 37|  Male| 62000|2015-08-01|\n",
      "|        020|          102|    Grace Kim| 32|Female| 53000|2018-11-01|\n",
      "+-----------+-------------+-------------+---+------+------+----------+\n",
      "\n"
     ]
    }
   ],
   "source": [
    "emp_final1.show()"
   ]
  },
  {
   "cell_type": "code",
   "execution_count": null,
   "id": "5c3f932c-c4d8-4d21-bfc0-77a3624f2c0c",
   "metadata": {},
   "outputs": [],
   "source": []
  }
 ],
 "metadata": {
  "kernelspec": {
   "display_name": "Python 3 (ipykernel)",
   "language": "python",
   "name": "python3"
  },
  "language_info": {
   "codemirror_mode": {
    "name": "ipython",
    "version": 3
   },
   "file_extension": ".py",
   "mimetype": "text/x-python",
   "name": "python",
   "nbconvert_exporter": "python",
   "pygments_lexer": "ipython3",
   "version": "3.10.12"
  }
 },
 "nbformat": 4,
 "nbformat_minor": 5
}
