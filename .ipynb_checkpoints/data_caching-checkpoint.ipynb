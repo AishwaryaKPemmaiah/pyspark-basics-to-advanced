{
 "cells": [
  {
   "cell_type": "code",
   "execution_count": 25,
   "id": "570ccb3c-7429-4991-ad55-29ffd16fd572",
   "metadata": {},
   "outputs": [],
   "source": [
    "from pyspark.sql import SparkSession\n",
    "spark = (SparkSession.\\\n",
    "         builder.\\\n",
    "         appName(\"Data caching\").\\\n",
    "         master(\"local[*]\").\\\n",
    "         config(\"spark.executor.memory\",\"512M\").\\\n",
    "         config(\"spark.executor.memory\", \"2G\").\\\n",
    "         config(\"spark.network.timeout\", \"600s\").\\\n",
    "         getOrCreate()\n",
    "        )\n",
    "spark\n",
    "\n",
    "spark.sparkContext.setLogLevel(\"ERROR\")\n"
   ]
  },
  {
   "cell_type": "code",
   "execution_count": 26,
   "id": "c7c61165-3db3-4ccc-a5d4-44863816cd38",
   "metadata": {},
   "outputs": [],
   "source": [
    "#read cvs data\n",
    "emp_schema = \"\"\"\n",
    "employee_id INT,\n",
    "department_id STRING,\n",
    "name STRING,\n",
    "age INT,\n",
    "gender STRING,\n",
    "salary STRING,\n",
    "hire_date STRING\n",
    "\"\"\"\n",
    "\n",
    "df = spark.read.format(\"csv\").schema(emp_schema).option(\"header\", True).load(\"data/input/emp_data.csv\")"
   ]
  },
  {
   "cell_type": "code",
   "execution_count": 27,
   "id": "7a56d7e4-741b-4162-8ee5-d23651a9ede3",
   "metadata": {},
   "outputs": [
    {
     "name": "stderr",
     "output_type": "stream",
     "text": [
      "                                                                                \r"
     ]
    },
    {
     "name": "stdout",
     "output_type": "stream",
     "text": [
      "root\n",
      " |-- employee_id: string (nullable = true)\n",
      " |-- department_id: string (nullable = true)\n",
      " |-- name: string (nullable = true)\n",
      " |-- age: string (nullable = true)\n",
      " |-- gender: string (nullable = true)\n",
      " |-- salary: string (nullable = true)\n",
      " |-- hire_date: string (nullable = true)\n",
      "\n",
      "+-----------+-------------+-------------+---+------+------+----------+\n",
      "|employee_id|department_id|         name|age|gender|salary| hire_date|\n",
      "+-----------+-------------+-------------+---+------+------+----------+\n",
      "|        001|          101|     John Doe| 30|  Male| 50000|2015-01-01|\n",
      "|        002|          101|   Jane Smith| 25|Female| 45000|2016-02-15|\n",
      "|        003|          102|    Bob Brown| 35|  Male| 55000|2014-01-10|\n",
      "|        004|          101|    Alice Lee| 30|Female| 48000|2018-05-21|\n",
      "|        005|          103|    Jack Chan| 40|  Male|   Low|2013-04-01|\n",
      "|        006|          102|    Jill Wong| 28|Female| 50000|    nodate|\n",
      "|        007|          103|James Johnson| 34|  Male| 52000|2016-07-15|\n",
      "|        008|          102|     Kate Kim| 29|Female|   Low|    nodate|\n",
      "|        009|          103|      Tom Tan| 36|  Male| 58000|2015-12-01|\n",
      "|        010|          104|     Lisa Lee| 27|Female| 47000|2017-11-01|\n",
      "|        011|          105|   David Park| 38|  Male| 59000|    nodate|\n",
      "|        012|          103|   Susan Chen| 33|Female| 56000|2016-03-01|\n",
      "|        013|          103|    Brian Doe| 41|  Male|   Low|2012-09-01|\n",
      "|        014|          107|    Emily Lee| 32|Female| 46000|2019-04-01|\n",
      "|        015|          106|  Michael Lee| 29|  Male| 53000|2018-01-01|\n",
      "|        016|          108|  Kelly Zhang| 31|Female| 54000|2017-06-01|\n",
      "|        017|          109|  George Wang| 35|  Male| 57000|2015-03-01|\n",
      "|        018|          108|    Nancy Liu| 28|Female| 52000|    nodate|\n",
      "|        019|          107|  Steven Chen| 30|  Male|   Low|2018-03-01|\n",
      "|        020|          102|    Grace Kim| 32|Female| 53000|2018-11-01|\n",
      "+-----------+-------------+-------------+---+------+------+----------+\n",
      "\n"
     ]
    }
   ],
   "source": [
    "df = spark.read.option(\"header\", True).csv(\"data/input/emp_data.csv\")\n",
    "df.printSchema()\n",
    "df.show()\n"
   ]
  },
  {
   "cell_type": "code",
   "execution_count": 13,
   "id": "4df36dcb-a239-44a0-829e-69a96cffff05",
   "metadata": {},
   "outputs": [
    {
     "name": "stdout",
     "output_type": "stream",
     "text": [
      "data/input/emp_data.csv\n"
     ]
    }
   ],
   "source": [
    "!ls data/input/emp_data.csv\n"
   ]
  },
  {
   "cell_type": "code",
   "execution_count": 28,
   "id": "ae9b3bc1-070d-449e-b8b2-257b576e7716",
   "metadata": {},
   "outputs": [
    {
     "name": "stdout",
     "output_type": "stream",
     "text": [
      "+-----------+-------------+-------------+---+------+------+----------+\n",
      "|employee_id|department_id|         name|age|gender|salary| hire_date|\n",
      "+-----------+-------------+-------------+---+------+------+----------+\n",
      "|        001|          101|     John Doe| 30|  Male| 50000|2015-01-01|\n",
      "|        002|          101|   Jane Smith| 25|Female| 45000|2016-02-15|\n",
      "|        003|          102|    Bob Brown| 35|  Male| 55000|2014-01-10|\n",
      "|        004|          101|    Alice Lee| 30|Female| 48000|2018-05-21|\n",
      "|        005|          103|    Jack Chan| 40|  Male|   Low|2013-04-01|\n",
      "|        006|          102|    Jill Wong| 28|Female| 50000|    nodate|\n",
      "|        007|          103|James Johnson| 34|  Male| 52000|2016-07-15|\n",
      "|        008|          102|     Kate Kim| 29|Female|   Low|    nodate|\n",
      "|        009|          103|      Tom Tan| 36|  Male| 58000|2015-12-01|\n",
      "|        010|          104|     Lisa Lee| 27|Female| 47000|2017-11-01|\n",
      "|        011|          105|   David Park| 38|  Male| 59000|    nodate|\n",
      "|        012|          103|   Susan Chen| 33|Female| 56000|2016-03-01|\n",
      "|        013|          103|    Brian Doe| 41|  Male|   Low|2012-09-01|\n",
      "|        014|          107|    Emily Lee| 32|Female| 46000|2019-04-01|\n",
      "|        015|          106|  Michael Lee| 29|  Male| 53000|2018-01-01|\n",
      "|        016|          108|  Kelly Zhang| 31|Female| 54000|2017-06-01|\n",
      "|        017|          109|  George Wang| 35|  Male| 57000|2015-03-01|\n",
      "|        018|          108|    Nancy Liu| 28|Female| 52000|    nodate|\n",
      "|        019|          107|  Steven Chen| 30|  Male|   Low|2018-03-01|\n",
      "|        020|          102|    Grace Kim| 32|Female| 53000|2018-11-01|\n",
      "+-----------+-------------+-------------+---+------+------+----------+\n",
      "\n"
     ]
    }
   ],
   "source": [
    "df = spark.read.option(\"header\", True).csv(\"data/input/emp_data.csv\")\n",
    "df.show()\n",
    "spark.sparkContext.setLogLevel(\"ERROR\")\n"
   ]
  },
  {
   "cell_type": "code",
   "execution_count": 20,
   "id": "1cf1d504-8ab6-4b6f-a4bd-af50ce6f7021",
   "metadata": {},
   "outputs": [
    {
     "name": "stdout",
     "output_type": "stream",
     "text": [
      "<pyspark.sql.session.SparkSession object at 0x7175fffa0550>\n"
     ]
    }
   ],
   "source": [
    "print(spark)\n"
   ]
  },
  {
   "cell_type": "code",
   "execution_count": 29,
   "id": "c8dc5269-44c7-4eb9-92f0-713d7c258457",
   "metadata": {},
   "outputs": [
    {
     "name": "stdout",
     "output_type": "stream",
     "text": [
      "employee_id,department_id,name,age,gender,salary,hire_date\n",
      "\n",
      "001,101,John Doe,30,Male,50000,2015-01-01\n",
      "\n",
      "002,101,Jane Smith,25,Female,45000,2016-02-15\n",
      "\n",
      "003,102,Bob Brown,35,Male,55000,2014-01-10\n",
      "\n",
      "004,101,Alice Lee,30,Female,48000,2018-05-21\n",
      "\n"
     ]
    }
   ],
   "source": [
    "with open(\"data/input/emp_data.csv\", \"r\") as f:\n",
    "    for i in range(5):\n",
    "        print(f.readline())\n"
   ]
  },
  {
   "cell_type": "code",
   "execution_count": 22,
   "id": "22f6ef97-73dd-4126-88f5-a4116840ab51",
   "metadata": {},
   "outputs": [
    {
     "name": "stdout",
     "output_type": "stream",
     "text": [
      "openjdk version \"11.0.27\" 2025-04-15\n",
      "OpenJDK Runtime Environment (build 11.0.27+6-post-Ubuntu-0ubuntu122.04)\n",
      "OpenJDK 64-Bit Server VM (build 11.0.27+6-post-Ubuntu-0ubuntu122.04, mixed mode, sharing)\n"
     ]
    }
   ],
   "source": [
    "!java -version\n"
   ]
  },
  {
   "cell_type": "code",
   "execution_count": 23,
   "id": "c0e35929-f23e-44e4-a87b-b2ccb97bb5a2",
   "metadata": {},
   "outputs": [
    {
     "name": "stdout",
     "output_type": "stream",
     "text": [
      "3.5.5\n"
     ]
    }
   ],
   "source": [
    "import pyspark\n",
    "print(pyspark.__version__)\n"
   ]
  },
  {
   "cell_type": "code",
   "execution_count": 31,
   "id": "35eee52f-ea11-4124-bdbd-ba864cb1930c",
   "metadata": {},
   "outputs": [
    {
     "name": "stdout",
     "output_type": "stream",
     "text": [
      "+-----------+-------------+-------------+---+------+------+----------+\n",
      "|employee_id|department_id|         name|age|gender|salary| hire_date|\n",
      "+-----------+-------------+-------------+---+------+------+----------+\n",
      "|        003|          102|    Bob Brown| 35|  Male| 55000|2014-01-10|\n",
      "|        007|          103|James Johnson| 34|  Male| 52000|2016-07-15|\n",
      "|        009|          103|      Tom Tan| 36|  Male| 58000|2015-12-01|\n",
      "|        011|          105|   David Park| 38|  Male| 59000|    nodate|\n",
      "|        012|          103|   Susan Chen| 33|Female| 56000|2016-03-01|\n",
      "|        015|          106|  Michael Lee| 29|  Male| 53000|2018-01-01|\n",
      "|        016|          108|  Kelly Zhang| 31|Female| 54000|2017-06-01|\n",
      "|        017|          109|  George Wang| 35|  Male| 57000|2015-03-01|\n",
      "|        018|          108|    Nancy Liu| 28|Female| 52000|    nodate|\n",
      "|        020|          102|    Grace Kim| 32|Female| 53000|2018-11-01|\n",
      "+-----------+-------------+-------------+---+------+------+----------+\n",
      "\n"
     ]
    }
   ],
   "source": [
    "df.where(\"salary > 50000\").show()"
   ]
  },
  {
   "cell_type": "code",
   "execution_count": 32,
   "id": "0df7342b-6438-418a-881e-95d9a178d644",
   "metadata": {},
   "outputs": [
    {
     "data": {
      "text/plain": [
       "DataFrame[employee_id: string, department_id: string, name: string, age: string, gender: string, salary: string, hire_date: string]"
      ]
     },
     "execution_count": 32,
     "metadata": {},
     "output_type": "execute_result"
    }
   ],
   "source": [
    "df.cache()\n",
    "\n",
    "# we need to use count tor write"
   ]
  },
  {
   "cell_type": "code",
   "execution_count": 33,
   "id": "b1345130-1b7e-4d46-b660-aecfb3048d4a",
   "metadata": {},
   "outputs": [
    {
     "data": {
      "text/plain": [
       "20"
      ]
     },
     "execution_count": 33,
     "metadata": {},
     "output_type": "execute_result"
    }
   ],
   "source": [
    "df.cache().count()"
   ]
  },
  {
   "cell_type": "code",
   "execution_count": 34,
   "id": "0b82260b-fda3-41dd-b9ee-5a049d79ef1d",
   "metadata": {},
   "outputs": [
    {
     "name": "stdout",
     "output_type": "stream",
     "text": [
      "+-----------+-------------+-------------+---+------+------+----------+\n",
      "|employee_id|department_id|         name|age|gender|salary| hire_date|\n",
      "+-----------+-------------+-------------+---+------+------+----------+\n",
      "|        003|          102|    Bob Brown| 35|  Male| 55000|2014-01-10|\n",
      "|        007|          103|James Johnson| 34|  Male| 52000|2016-07-15|\n",
      "|        009|          103|      Tom Tan| 36|  Male| 58000|2015-12-01|\n",
      "|        011|          105|   David Park| 38|  Male| 59000|    nodate|\n",
      "|        012|          103|   Susan Chen| 33|Female| 56000|2016-03-01|\n",
      "|        015|          106|  Michael Lee| 29|  Male| 53000|2018-01-01|\n",
      "|        016|          108|  Kelly Zhang| 31|Female| 54000|2017-06-01|\n",
      "|        017|          109|  George Wang| 35|  Male| 57000|2015-03-01|\n",
      "|        018|          108|    Nancy Liu| 28|Female| 52000|    nodate|\n",
      "|        020|          102|    Grace Kim| 32|Female| 53000|2018-11-01|\n",
      "+-----------+-------------+-------------+---+------+------+----------+\n",
      "\n"
     ]
    }
   ],
   "source": [
    "df.where(\"salary > 50000\").show()"
   ]
  },
  {
   "cell_type": "code",
   "execution_count": 35,
   "id": "6131a3ef-3989-43c7-bab8-4baf80174fb9",
   "metadata": {},
   "outputs": [
    {
     "data": {
      "text/plain": [
       "DataFrame[employee_id: string, department_id: string, name: string, age: string, gender: string, salary: string, hire_date: string]"
      ]
     },
     "execution_count": 35,
     "metadata": {},
     "output_type": "execute_result"
    }
   ],
   "source": [
    "df.unpersist()"
   ]
  },
  {
   "cell_type": "code",
   "execution_count": 36,
   "id": "ccb312ae-c5f4-4588-9129-38c07ed07f23",
   "metadata": {},
   "outputs": [],
   "source": [
    "df_cache = df.cache()"
   ]
  },
  {
   "cell_type": "code",
   "execution_count": 37,
   "id": "cb20e57a-88b9-4c5b-8bf3-2ea85801cb49",
   "metadata": {},
   "outputs": [
    {
     "data": {
      "text/plain": [
       "20"
      ]
     },
     "execution_count": 37,
     "metadata": {},
     "output_type": "execute_result"
    }
   ],
   "source": [
    "df_cache.count()"
   ]
  },
  {
   "cell_type": "code",
   "execution_count": 47,
   "id": "762f33e8-d17d-4bc5-a06e-e566b34d4d14",
   "metadata": {},
   "outputs": [
    {
     "name": "stdout",
     "output_type": "stream",
     "text": [
      "+-----------+-------------+-------------+---+------+------+----------+\n",
      "|employee_id|department_id|         name|age|gender|salary| hire_date|\n",
      "+-----------+-------------+-------------+---+------+------+----------+\n",
      "|        003|          102|    Bob Brown| 35|  Male| 55000|2014-01-10|\n",
      "|        007|          103|James Johnson| 34|  Male| 52000|2016-07-15|\n",
      "|        009|          103|      Tom Tan| 36|  Male| 58000|2015-12-01|\n",
      "|        011|          105|   David Park| 38|  Male| 59000|    nodate|\n",
      "|        012|          103|   Susan Chen| 33|Female| 56000|2016-03-01|\n",
      "|        015|          106|  Michael Lee| 29|  Male| 53000|2018-01-01|\n",
      "|        016|          108|  Kelly Zhang| 31|Female| 54000|2017-06-01|\n",
      "|        017|          109|  George Wang| 35|  Male| 57000|2015-03-01|\n",
      "|        018|          108|    Nancy Liu| 28|Female| 52000|    nodate|\n",
      "|        020|          102|    Grace Kim| 32|Female| 53000|2018-11-01|\n",
      "+-----------+-------------+-------------+---+------+------+----------+\n",
      "\n"
     ]
    }
   ],
   "source": [
    "df.where(\"salary > 50000\").show()"
   ]
  },
  {
   "cell_type": "code",
   "execution_count": 46,
   "id": "2078b897-e477-404f-8ed5-34a89a765208",
   "metadata": {},
   "outputs": [
    {
     "name": "stdout",
     "output_type": "stream",
     "text": [
      "+-----------+-------------+-----------+---+------+------+----------+\n",
      "|employee_id|department_id|       name|age|gender|salary| hire_date|\n",
      "+-----------+-------------+-----------+---+------+------+----------+\n",
      "|        009|          103|    Tom Tan| 36|  Male| 58000|2015-12-01|\n",
      "|        011|          105| David Park| 38|  Male| 59000|    nodate|\n",
      "|        012|          103| Susan Chen| 33|Female| 56000|2016-03-01|\n",
      "|        017|          109|George Wang| 35|  Male| 57000|2015-03-01|\n",
      "+-----------+-------------+-----------+---+------+------+----------+\n",
      "\n"
     ]
    }
   ],
   "source": [
    "df_cache.where(\"salary > 55000\").show()"
   ]
  },
  {
   "cell_type": "code",
   "execution_count": 40,
   "id": "88162502-eca4-490e-bd25-c5ff24901b84",
   "metadata": {},
   "outputs": [
    {
     "data": {
      "text/html": [
       "\n",
       "            <div>\n",
       "                <p><b>SparkSession - in-memory</b></p>\n",
       "                \n",
       "        <div>\n",
       "            <p><b>SparkContext</b></p>\n",
       "\n",
       "            <p><a href=\"http://192.168.0.121:4041\">Spark UI</a></p>\n",
       "\n",
       "            <dl>\n",
       "              <dt>Version</dt>\n",
       "                <dd><code>v3.5.5</code></dd>\n",
       "              <dt>Master</dt>\n",
       "                <dd><code>local[*]</code></dd>\n",
       "              <dt>AppName</dt>\n",
       "                <dd><code>Data caching</code></dd>\n",
       "            </dl>\n",
       "        </div>\n",
       "        \n",
       "            </div>\n",
       "        "
      ],
      "text/plain": [
       "<pyspark.sql.session.SparkSession at 0x7175f20f9bd0>"
      ]
     },
     "execution_count": 40,
     "metadata": {},
     "output_type": "execute_result"
    }
   ],
   "source": [
    "spark"
   ]
  },
  {
   "cell_type": "code",
   "execution_count": null,
   "id": "6faf6513-97ff-4e7a-bdf3-28495e80c25f",
   "metadata": {},
   "outputs": [],
   "source": [
    "#diffrent storage levels in cahching\n",
    "# Common Storage Levels in PySpark\n",
    "Storage Level\tDescription\n",
    "MEMORY_ONLY\tDefault. Stores RDD in JVM memory. Recomputes if not enough memory.\n",
    "MEMORY_AND_DISK\tStores in memory if possible, spills to disk if not enough memory.\n",
    "MEMORY_ONLY_SER\tStores serialized data in memory. More space-efficient than MEMORY_ONLY.\n",
    "MEMORY_AND_DISK_SER\tStores serialized data in memory/disk.\n",
    "DISK_ONLY\tStores data only on disk. No memory used.\n",
    "MEMORY_ONLY_2\tSame as MEMORY_ONLY, but replicated on 2 nodes.\n",
    "MEMORY_AND_DISK_2\tSame as MEMORY_AND_DISK, but replicated.\n",
    "OFF_HEAP (experimental)\tStores in off-heap memory (requires extra config). "
   ]
  }
 ],
 "metadata": {
  "kernelspec": {
   "display_name": "Python 3 (ipykernel)",
   "language": "python",
   "name": "python3"
  },
  "language_info": {
   "codemirror_mode": {
    "name": "ipython",
    "version": 3
   },
   "file_extension": ".py",
   "mimetype": "text/x-python",
   "name": "python",
   "nbconvert_exporter": "python",
   "pygments_lexer": "ipython3",
   "version": "3.10.12"
  }
 },
 "nbformat": 4,
 "nbformat_minor": 5
}
