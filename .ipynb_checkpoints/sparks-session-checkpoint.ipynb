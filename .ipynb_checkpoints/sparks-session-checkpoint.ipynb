{
 "cells": [
  {
   "cell_type": "code",
   "execution_count": 1,
   "id": "3e45bea2-1e4b-4f52-909b-dd7f50e7950d",
   "metadata": {},
   "outputs": [
    {
     "name": "stderr",
     "output_type": "stream",
     "text": [
      "25/05/14 14:19:04 WARN Utils: Your hostname, oem-Lenovo-G50-80 resolves to a loopback address: 127.0.1.1; using 192.168.0.121 instead (on interface wlp3s0)\n",
      "25/05/14 14:19:04 WARN Utils: Set SPARK_LOCAL_IP if you need to bind to another address\n",
      "Setting default log level to \"WARN\".\n",
      "To adjust logging level use sc.setLogLevel(newLevel). For SparkR, use setLogLevel(newLevel).\n",
      "25/05/14 14:19:06 WARN NativeCodeLoader: Unable to load native-hadoop library for your platform... using builtin-java classes where applicable\n"
     ]
    }
   ],
   "source": [
    "from pyspark.sql import SparkSession\n",
    "spark = (\n",
    "        SparkSession.\n",
    "        builder.\n",
    "        appName(\"Spark Learning\").\n",
    "        master(\"local[*]\").\n",
    "        getOrCreate()     \n",
    "\n",
    ")\n",
    "spark.sparkContext.setLogLevel(\"ERROR\")"
   ]
  },
  {
   "cell_type": "code",
   "execution_count": null,
   "id": "40bbb479-c205-4d7f-bc2b-22f0adbd3247",
   "metadata": {},
   "outputs": [],
   "source": [
    "spark"
   ]
  },
  {
   "cell_type": "code",
   "execution_count": null,
   "id": "d35f4779-2e7d-4fa9-80e9-ae16a205e0f7",
   "metadata": {},
   "outputs": [],
   "source": [
    "emp_data = [\n",
    "    [\"001\", \"101\", \"Jane Smith\", \"25\", \"Female\", \"45000\", \"2016-02-15\"],\n",
    "    [\"002\", \"102\", \"Bob Brown\", \"35\", \"Male\", \"55000\", \"2014-01-10\"],\n",
    "    [\"003\", \"101\", \"Alice Lee\", \"30\", \"Female\", \"48000\", \"2018-05-21\"],\n",
    "    [\"004\", \"103\", \"Jack Chang\", \"40\", \"Male\", \"60000\", \"2013-04-01\"],\n",
    "    [\"005\", \"102\", \"Jill Wong\", \"28\", \"Female\", \"50000\", \"2017-01-05\"],\n",
    "    [\"006\", \"101\", \"James Hong\", \"34\", \"Male\", \"52000\", \"2016-07-15\"],\n",
    "    [\"007\", \"102\", \"Kate Kim\", \"29\", \"Female\", \"51000\", \"2019-08-01\"],\n",
    "    [\"008\", \"103\", \"Tom Tan\", \"36\", \"Male\", \"58000\", \"2015-12-01\"],\n",
    "    [\"009\", \"101\", \"Lisa Lee\", \"27\", \"Female\", \"47000\", \"2017-11-01\"],\n",
    "    [\"010\", \"104\", \"David Park\", \"38\", \"Male\", \"59000\", \"2014-06-01\"],\n",
    "    [\"011\", \"105\", \"Susan Chen\", \"33\", \"Female\", \"56000\", \"2016-03-01\"],\n",
    "    [\"012\", \"103\", \"Brian Kim\", \"41\", \"Male\", \"60000\", \"2012-09-01\"],\n",
    "    [\"013\", \"107\", \"Emily Lee\", \"32\", \"Female\", \"46000\", \"2019-04-01\"],\n",
    "    [\"014\", \"106\", \"Michael Lee\", \"29\", \"Male\", \"53000\", \"2018-01-01\"],\n",
    "    [\"015\", \"108\", \"Kelly Zhang\", \"31\", \"Female\", \"54000\", \"2017-06-01\"],\n",
    "    [\"016\", \"109\", \"George Wang\", \"35\", \"Male\", \"57000\", \"2015-03-01\"],\n",
    "    [\"017\", \"108\", \"Nancy Liu\", \"28\", \"Female\", \"52000\", \"2020-05-01\"],\n",
    "    [\"019\", \"107\", \"Steven Chen\", \"30\", \"Male\", \"55000\", \"2018-03-01\"],\n",
    "    [\"020\", \"102\", \"Grace Kim\", \"32\", \"Female\", \"53000\", \"2018-11-01\"]\n",
    "]\n",
    "emp_schema = \"employee_id string, department_id string, name string, age string, gender string, salary string, hire_date string\"\n"
   ]
  },
  {
   "cell_type": "code",
   "execution_count": null,
   "id": "7177da05-4539-4956-bfa0-0f1670b8fd74",
   "metadata": {},
   "outputs": [],
   "source": [
    "#dataframe\n",
    "emp = spark.createDataFrame(data = emp_data, schema = emp_schema) "
   ]
  },
  {
   "cell_type": "code",
   "execution_count": null,
   "id": "4ef295ed-ccde-4cc0-a6dd-655dcb607d85",
   "metadata": {},
   "outputs": [],
   "source": [
    "emp"
   ]
  },
  {
   "cell_type": "code",
   "execution_count": null,
   "id": "2778f0b4-4abe-4143-97be-1adf51eab2dc",
   "metadata": {},
   "outputs": [],
   "source": [
    "#no of partitions\n",
    "\n",
    "emp.rdd.getNumPartitions()"
   ]
  },
  {
   "cell_type": "code",
   "execution_count": 7,
   "id": "5e36b740-4300-4fc0-b1cf-64d8b20b4c3b",
   "metadata": {},
   "outputs": [
    {
     "name": "stderr",
     "output_type": "stream",
     "text": [
      "                                                                                \r"
     ]
    },
    {
     "name": "stdout",
     "output_type": "stream",
     "text": [
      "+-----------+-------------+-----------+---+------+------+----------+\n",
      "|employee_id|department_id|       name|age|gender|salary| hire_date|\n",
      "+-----------+-------------+-----------+---+------+------+----------+\n",
      "|        001|          101| Jane Smith| 25|Female| 45000|2016-02-15|\n",
      "|        002|          102|  Bob Brown| 35|  Male| 55000|2014-01-10|\n",
      "|        003|          101|  Alice Lee| 30|Female| 48000|2018-05-21|\n",
      "|        004|          103| Jack Chang| 40|  Male| 60000|2013-04-01|\n",
      "|        005|          102|  Jill Wong| 28|Female| 50000|2017-01-05|\n",
      "|        006|          101| James Hong| 34|  Male| 52000|2016-07-15|\n",
      "|        007|          102|   Kate Kim| 29|Female| 51000|2019-08-01|\n",
      "|        008|          103|    Tom Tan| 36|  Male| 58000|2015-12-01|\n",
      "|        009|          101|   Lisa Lee| 27|Female| 47000|2017-11-01|\n",
      "|        010|          104| David Park| 38|  Male| 59000|2014-06-01|\n",
      "|        011|          105| Susan Chen| 33|Female| 56000|2016-03-01|\n",
      "|        012|          103|  Brian Kim| 41|  Male| 60000|2012-09-01|\n",
      "|        013|          107|  Emily Lee| 32|Female| 46000|2019-04-01|\n",
      "|        014|          106|Michael Lee| 29|  Male| 53000|2018-01-01|\n",
      "|        015|          108|Kelly Zhang| 31|Female| 54000|2017-06-01|\n",
      "|        016|          109|George Wang| 35|  Male| 57000|2015-03-01|\n",
      "|        017|          108|  Nancy Liu| 28|Female| 52000|2020-05-01|\n",
      "|        019|          107|Steven Chen| 30|  Male| 55000|2018-03-01|\n",
      "|        020|          102|  Grace Kim| 32|Female| 53000|2018-11-01|\n",
      "+-----------+-------------+-----------+---+------+------+----------+\n",
      "\n"
     ]
    }
   ],
   "source": [
    "#spark data(ACTION)   responsible for creating jobs  \n",
    "\n",
    "emp.show()"
   ]
  },
  {
   "cell_type": "code",
   "execution_count": 8,
   "id": "d81ec805-315c-4385-93fd-38955d95e475",
   "metadata": {},
   "outputs": [],
   "source": [
    "#first transformation\n",
    "\n",
    "emp_final = emp.where(\"salary > 50000\") "
   ]
  },
  {
   "cell_type": "code",
   "execution_count": 9,
   "id": "60d39829-40d2-4eaa-b7d8-105ba718c88e",
   "metadata": {},
   "outputs": [
    {
     "name": "stdout",
     "output_type": "stream",
     "text": [
      "+-----------+-------------+-----------+---+------+------+----------+\n",
      "|employee_id|department_id|       name|age|gender|salary| hire_date|\n",
      "+-----------+-------------+-----------+---+------+------+----------+\n",
      "|        002|          102|  Bob Brown| 35|  Male| 55000|2014-01-10|\n",
      "|        004|          103| Jack Chang| 40|  Male| 60000|2013-04-01|\n",
      "|        006|          101| James Hong| 34|  Male| 52000|2016-07-15|\n",
      "|        007|          102|   Kate Kim| 29|Female| 51000|2019-08-01|\n",
      "|        008|          103|    Tom Tan| 36|  Male| 58000|2015-12-01|\n",
      "|        010|          104| David Park| 38|  Male| 59000|2014-06-01|\n",
      "|        011|          105| Susan Chen| 33|Female| 56000|2016-03-01|\n",
      "|        012|          103|  Brian Kim| 41|  Male| 60000|2012-09-01|\n",
      "|        014|          106|Michael Lee| 29|  Male| 53000|2018-01-01|\n",
      "|        015|          108|Kelly Zhang| 31|Female| 54000|2017-06-01|\n",
      "|        016|          109|George Wang| 35|  Male| 57000|2015-03-01|\n",
      "|        017|          108|  Nancy Liu| 28|Female| 52000|2020-05-01|\n",
      "|        019|          107|Steven Chen| 30|  Male| 55000|2018-03-01|\n",
      "|        020|          102|  Grace Kim| 32|Female| 53000|2018-11-01|\n",
      "+-----------+-------------+-----------+---+------+------+----------+\n",
      "\n"
     ]
    }
   ],
   "source": [
    "emp_final.show()"
   ]
  },
  {
   "cell_type": "code",
   "execution_count": 10,
   "id": "b7c84086-ef6b-46ca-9b17-0190a71cedf9",
   "metadata": {},
   "outputs": [
    {
     "data": {
      "text/plain": [
       "4"
      ]
     },
     "execution_count": 10,
     "metadata": {},
     "output_type": "execute_result"
    }
   ],
   "source": [
    "#validate the paritions\n",
    "\n",
    "emp_final.rdd.getNumPartitions()"
   ]
  },
  {
   "cell_type": "code",
   "execution_count": 11,
   "id": "cae4a1d8-4105-4e71-9c49-b5fee339a618",
   "metadata": {},
   "outputs": [
    {
     "ename": "AnalysisException",
     "evalue": "[PATH_ALREADY_EXISTS] Path file:/home/oem/pyspark_Basic_Advance/data/output/1/emp.csv already exists. Set mode as \"overwrite\" to overwrite the existing path.",
     "output_type": "error",
     "traceback": [
      "\u001b[0;31m---------------------------------------------------------------------------\u001b[0m",
      "\u001b[0;31mAnalysisException\u001b[0m                         Traceback (most recent call last)",
      "\u001b[0;32m/tmp/ipykernel_95903/3633324773.py\u001b[0m in \u001b[0;36m<module>\u001b[0;34m\u001b[0m\n\u001b[1;32m      1\u001b[0m \u001b[0;31m#write data to csv\u001b[0m\u001b[0;34m\u001b[0m\u001b[0;34m\u001b[0m\u001b[0m\n\u001b[1;32m      2\u001b[0m \u001b[0;34m\u001b[0m\u001b[0m\n\u001b[0;32m----> 3\u001b[0;31m \u001b[0memp_final\u001b[0m\u001b[0;34m.\u001b[0m\u001b[0mwrite\u001b[0m\u001b[0;34m.\u001b[0m\u001b[0mformat\u001b[0m\u001b[0;34m(\u001b[0m\u001b[0;34m\"csv\"\u001b[0m\u001b[0;34m)\u001b[0m\u001b[0;34m.\u001b[0m\u001b[0msave\u001b[0m\u001b[0;34m(\u001b[0m\u001b[0;34m\"data/output/1/emp.csv\"\u001b[0m\u001b[0;34m)\u001b[0m\u001b[0;34m\u001b[0m\u001b[0;34m\u001b[0m\u001b[0m\n\u001b[0m",
      "\u001b[0;32m~/.local/lib/python3.10/site-packages/pyspark/sql/readwriter.py\u001b[0m in \u001b[0;36msave\u001b[0;34m(self, path, format, mode, partitionBy, **options)\u001b[0m\n\u001b[1;32m   1461\u001b[0m             \u001b[0mself\u001b[0m\u001b[0;34m.\u001b[0m\u001b[0m_jwrite\u001b[0m\u001b[0;34m.\u001b[0m\u001b[0msave\u001b[0m\u001b[0;34m(\u001b[0m\u001b[0;34m)\u001b[0m\u001b[0;34m\u001b[0m\u001b[0;34m\u001b[0m\u001b[0m\n\u001b[1;32m   1462\u001b[0m         \u001b[0;32melse\u001b[0m\u001b[0;34m:\u001b[0m\u001b[0;34m\u001b[0m\u001b[0;34m\u001b[0m\u001b[0m\n\u001b[0;32m-> 1463\u001b[0;31m             \u001b[0mself\u001b[0m\u001b[0;34m.\u001b[0m\u001b[0m_jwrite\u001b[0m\u001b[0;34m.\u001b[0m\u001b[0msave\u001b[0m\u001b[0;34m(\u001b[0m\u001b[0mpath\u001b[0m\u001b[0;34m)\u001b[0m\u001b[0;34m\u001b[0m\u001b[0;34m\u001b[0m\u001b[0m\n\u001b[0m\u001b[1;32m   1464\u001b[0m \u001b[0;34m\u001b[0m\u001b[0m\n\u001b[1;32m   1465\u001b[0m     \u001b[0;32mdef\u001b[0m \u001b[0minsertInto\u001b[0m\u001b[0;34m(\u001b[0m\u001b[0mself\u001b[0m\u001b[0;34m,\u001b[0m \u001b[0mtableName\u001b[0m\u001b[0;34m:\u001b[0m \u001b[0mstr\u001b[0m\u001b[0;34m,\u001b[0m \u001b[0moverwrite\u001b[0m\u001b[0;34m:\u001b[0m \u001b[0mOptional\u001b[0m\u001b[0;34m[\u001b[0m\u001b[0mbool\u001b[0m\u001b[0;34m]\u001b[0m \u001b[0;34m=\u001b[0m \u001b[0;32mNone\u001b[0m\u001b[0;34m)\u001b[0m \u001b[0;34m->\u001b[0m \u001b[0;32mNone\u001b[0m\u001b[0;34m:\u001b[0m\u001b[0;34m\u001b[0m\u001b[0;34m\u001b[0m\u001b[0m\n",
      "\u001b[0;32m~/.local/lib/python3.10/site-packages/py4j/java_gateway.py\u001b[0m in \u001b[0;36m__call__\u001b[0;34m(self, *args)\u001b[0m\n\u001b[1;32m   1320\u001b[0m \u001b[0;34m\u001b[0m\u001b[0m\n\u001b[1;32m   1321\u001b[0m         \u001b[0manswer\u001b[0m \u001b[0;34m=\u001b[0m \u001b[0mself\u001b[0m\u001b[0;34m.\u001b[0m\u001b[0mgateway_client\u001b[0m\u001b[0;34m.\u001b[0m\u001b[0msend_command\u001b[0m\u001b[0;34m(\u001b[0m\u001b[0mcommand\u001b[0m\u001b[0;34m)\u001b[0m\u001b[0;34m\u001b[0m\u001b[0;34m\u001b[0m\u001b[0m\n\u001b[0;32m-> 1322\u001b[0;31m         return_value = get_return_value(\n\u001b[0m\u001b[1;32m   1323\u001b[0m             answer, self.gateway_client, self.target_id, self.name)\n\u001b[1;32m   1324\u001b[0m \u001b[0;34m\u001b[0m\u001b[0m\n",
      "\u001b[0;32m~/.local/lib/python3.10/site-packages/pyspark/errors/exceptions/captured.py\u001b[0m in \u001b[0;36mdeco\u001b[0;34m(*a, **kw)\u001b[0m\n\u001b[1;32m    183\u001b[0m                 \u001b[0;31m# Hide where the exception came from that shows a non-Pythonic\u001b[0m\u001b[0;34m\u001b[0m\u001b[0;34m\u001b[0m\u001b[0m\n\u001b[1;32m    184\u001b[0m                 \u001b[0;31m# JVM exception message.\u001b[0m\u001b[0;34m\u001b[0m\u001b[0;34m\u001b[0m\u001b[0m\n\u001b[0;32m--> 185\u001b[0;31m                 \u001b[0;32mraise\u001b[0m \u001b[0mconverted\u001b[0m \u001b[0;32mfrom\u001b[0m \u001b[0;32mNone\u001b[0m\u001b[0;34m\u001b[0m\u001b[0;34m\u001b[0m\u001b[0m\n\u001b[0m\u001b[1;32m    186\u001b[0m             \u001b[0;32melse\u001b[0m\u001b[0;34m:\u001b[0m\u001b[0;34m\u001b[0m\u001b[0;34m\u001b[0m\u001b[0m\n\u001b[1;32m    187\u001b[0m                 \u001b[0;32mraise\u001b[0m\u001b[0;34m\u001b[0m\u001b[0;34m\u001b[0m\u001b[0m\n",
      "\u001b[0;31mAnalysisException\u001b[0m: [PATH_ALREADY_EXISTS] Path file:/home/oem/pyspark_Basic_Advance/data/output/1/emp.csv already exists. Set mode as \"overwrite\" to overwrite the existing path."
     ]
    }
   ],
   "source": [
    "#write data to csv\n",
    "\n",
    "emp_final.write.format(\"csv\").save(\"data/output/1/emp.csv\")"
   ]
  },
  {
   "cell_type": "code",
   "execution_count": null,
   "id": "f1fc4a59-d676-47be-8dde-9761884149b5",
   "metadata": {},
   "outputs": [],
   "source": [
    "#spark follows lzy evaluation the tranforamtions only will work when we use action ,spark uses ui to understand what happening in background\n",
    "#spark also provides interactive shell to start wokring with spark "
   ]
  },
  {
   "cell_type": "code",
   "execution_count": null,
   "id": "92c22d88-5ee4-4296-818d-b0320ef42354",
   "metadata": {},
   "outputs": [],
   "source": [
    "#view schema\n",
    "emp.printSchema()"
   ]
  },
  {
   "cell_type": "code",
   "execution_count": null,
   "id": "319932c0-80bf-417c-b6f1-6aa7ea7e9232",
   "metadata": {},
   "outputs": [],
   "source": [
    "emp.schema"
   ]
  },
  {
   "cell_type": "code",
   "execution_count": null,
   "id": "54ce4c5c-f8bf-4ce2-98fb-0ad38100a43c",
   "metadata": {},
   "outputs": [],
   "source": [
    "from pyspark.sql.types import StringType, StructField, StructType, IntegerType\n",
    "schema_string  = \"name string, age int\"\n",
    "schema_spark = StructType([\n",
    "                StructField('name', StringType(), True), \n",
    "                StructField('age', IntegerType(), True)\n",
    "])\n"
   ]
  },
  {
   "cell_type": "code",
   "execution_count": null,
   "id": "8ab3d80f-364a-4c26-bb58-c6e9763fcc7a",
   "metadata": {},
   "outputs": [],
   "source": [
    "#df has two parts : columns and rows\n",
    "\n",
    "#df columns and expressions\n",
    "\n",
    "# we can  select manupulate remove add columns  on df and this is  operations called expressions\n",
    "\n",
    "#rows : data\n",
    "\n",
    "\n",
    "#to call a column explicityly we need to use expr , col from pysqpar.sql.functions module"
   ]
  },
  {
   "cell_type": "code",
   "execution_count": null,
   "id": "980de96d-66fc-4a46-a983-a6489667070a",
   "metadata": {},
   "outputs": [],
   "source": [
    "from pyspark.sql.functions import col,expr\n",
    "emp.salary"
   ]
  },
  {
   "cell_type": "code",
   "execution_count": null,
   "id": "14fa97c0-2c2f-416c-aebb-29605d80bb17",
   "metadata": {},
   "outputs": [],
   "source": [
    "emp[\"salary\"]"
   ]
  },
  {
   "cell_type": "code",
   "execution_count": null,
   "id": "1c9a9413-c78d-4677-bedc-8c3dc645a2ee",
   "metadata": {},
   "outputs": [],
   "source": [
    "#select from employee\n",
    "#select employee_id, name, age, salary from emp\n",
    "\n",
    "emp_filtered = emp.select(col(\"employee_id\"),col(\"age\"),col(\"name\"),col(\"salary\"))"
   ]
  },
  {
   "cell_type": "code",
   "execution_count": null,
   "id": "32838a7e-2f87-43fa-b41e-e9c00c58bfeb",
   "metadata": {},
   "outputs": [],
   "source": [
    "spark"
   ]
  },
  {
   "cell_type": "code",
   "execution_count": null,
   "id": "d02ef8b2-9c12-404d-b54f-7ebed280d77d",
   "metadata": {},
   "outputs": [],
   "source": [
    "emp_filtered.show()"
   ]
  },
  {
   "cell_type": "code",
   "execution_count": null,
   "id": "474c8888-49c3-4830-947e-87f6774b3cdb",
   "metadata": {},
   "outputs": [],
   "source": [
    "emp_casted = emp.select(expr(\"employee_id as emp_id\"), emp.name, expr(\"cast(age as int) as age\"), emp.salary) "
   ]
  },
  {
   "cell_type": "code",
   "execution_count": null,
   "id": "ec1460c4-f27e-4773-abbe-7a9a992672cb",
   "metadata": {},
   "outputs": [],
   "source": [
    "emp_casted.show()"
   ]
  },
  {
   "cell_type": "code",
   "execution_count": null,
   "id": "4311df1c-ba54-4316-be98-dcbde5693a16",
   "metadata": {},
   "outputs": [],
   "source": [
    "emp_casted.printSchema()"
   ]
  },
  {
   "cell_type": "code",
   "execution_count": null,
   "id": "3fc9621f-386e-4227-a574-816d93b57858",
   "metadata": {},
   "outputs": [],
   "source": [
    "emp_casted.schema"
   ]
  },
  {
   "cell_type": "code",
   "execution_count": null,
   "id": "cb6a9ef9-0743-4f43-9bbe-7b39de4a5a39",
   "metadata": {},
   "outputs": [],
   "source": [
    "emp_casted1 = emp.selectExpr(\"employee_id as emp_id\", \"name\", \"cast(age as int) as age\")"
   ]
  },
  {
   "cell_type": "code",
   "execution_count": null,
   "id": "2ddf7064-6a62-44af-8afb-d4a45a763987",
   "metadata": {},
   "outputs": [],
   "source": [
    "emp_casted1.show()"
   ]
  },
  {
   "cell_type": "code",
   "execution_count": null,
   "id": "c0b697e0-8def-48f3-9a68-b3aea21a9c92",
   "metadata": {},
   "outputs": [],
   "source": [
    "emp_casted1.printSchema"
   ]
  },
  {
   "cell_type": "code",
   "execution_count": null,
   "id": "281762c2-ca03-4772-96f0-19ce7a1844a6",
   "metadata": {},
   "outputs": [],
   "source": [
    "emp_casted1.printSchema()"
   ]
  },
  {
   "cell_type": "code",
   "execution_count": null,
   "id": "74ba7214-f5ff-46bd-a690-36e5eb946ebb",
   "metadata": {},
   "outputs": [],
   "source": [
    "emp_final = emp_casted.select(\"emp_id\", \"name\", \"age\", \"salary\").where(\"age > 30\")"
   ]
  },
  {
   "cell_type": "code",
   "execution_count": null,
   "id": "4836c5de-87cd-497a-890e-8cbe0aeee368",
   "metadata": {},
   "outputs": [],
   "source": [
    "emp_final_filter = emp_casted.select(\"emp_id\", \"name\", \"age\", \"salary\").where(\"salary > 30000\")"
   ]
  },
  {
   "cell_type": "code",
   "execution_count": null,
   "id": "180e1d57-a625-4e9f-992e-b84a7fc57234",
   "metadata": {},
   "outputs": [],
   "source": [
    "emp_final.show()\n"
   ]
  },
  {
   "cell_type": "raw",
   "id": "6a036007-93a1-4de5-b657-15a8229d343a",
   "metadata": {},
   "source": [
    "emp_final_filter.show()"
   ]
  },
  {
   "cell_type": "code",
   "execution_count": null,
   "id": "e193eae2-ae5b-44f1-8fe1-1e716e005cfc",
   "metadata": {},
   "outputs": [],
   "source": [
    "#write to csv\n",
    "emp_final.write.format(\"csv\").\\\n",
    "    mode(\"overwrite\").\\\n",
    "    save(\"data/output/2/empfilteredage\")"
   ]
  },
  {
   "cell_type": "code",
   "execution_count": null,
   "id": "536a8f33-ce01-4732-bef7-85a1d7d9d5e5",
   "metadata": {},
   "outputs": [],
   "source": [
    "schema_str  = \"name string\"\n",
    "from pyspark.sql.types import _parse_datatype_string\n",
    "schema_spark = _parse_datatype_string(schema_str)\n"
   ]
  },
  {
   "cell_type": "code",
   "execution_count": null,
   "id": "f0add6a7-a7ee-4599-b3a6-c58f34c97291",
   "metadata": {},
   "outputs": [],
   "source": [
    "schema_spark"
   ]
  },
  {
   "cell_type": "code",
   "execution_count": null,
   "id": "fcbf53a8-e786-47fd-ac9a-c3eaf4a886a5",
   "metadata": {},
   "outputs": [],
   "source": [
    "schema_str"
   ]
  },
  {
   "cell_type": "code",
   "execution_count": 12,
   "id": "fa02e5d2-a34f-4e56-8874-362db624ef2a",
   "metadata": {},
   "outputs": [],
   "source": [
    "#casting columns\n",
    "#select employee_id, name, age, salary where salary is double\n",
    "from pyspark.sql.functions import col\n",
    "emp_casted_salary_double = emp.select(\"employee_id\",\"name\", \"age\", col(\"salary\").cast(\"double\"))"
   ]
  },
  {
   "cell_type": "markdown",
   "id": "43f8ca98-a883-4b5e-97d2-1a2e7ece9331",
   "metadata": {},
   "source": [
    "## emp_casted_salary_double.show()   #action  tiggers execution jobs : UI there will be jobs stages howna lso in sql /dataframe queires"
   ]
  },
  {
   "cell_type": "code",
   "execution_count": 14,
   "id": "7d57ade3-bf0a-431a-a68b-57b73a800633",
   "metadata": {},
   "outputs": [
    {
     "name": "stdout",
     "output_type": "stream",
     "text": [
      "root\n",
      " |-- employee_id: string (nullable = true)\n",
      " |-- name: string (nullable = true)\n",
      " |-- age: string (nullable = true)\n",
      " |-- salary: double (nullable = true)\n",
      "\n"
     ]
    }
   ],
   "source": [
    "emp_casted_salary_double.printSchema()"
   ]
  },
  {
   "cell_type": "code",
   "execution_count": 16,
   "id": "528d7bc9-4e7a-4d9e-9632-6673cd0134d3",
   "metadata": {},
   "outputs": [],
   "source": [
    "#add column salary is salary *0.2\n",
    "\n",
    "emp_taxed = emp_casted_salary_double.withColumn(\"salary_taxed\",col(\"salary\") * 0.2)"
   ]
  },
  {
   "cell_type": "code",
   "execution_count": 17,
   "id": "805e9950-bf25-4133-9888-cf408e316e38",
   "metadata": {},
   "outputs": [
    {
     "name": "stderr",
     "output_type": "stream",
     "text": [
      "[Stage 7:===================>                                       (1 + 2) / 3]\r"
     ]
    },
    {
     "name": "stdout",
     "output_type": "stream",
     "text": [
      "+-----------+-----------+---+-------+------------+\n",
      "|employee_id|       name|age| salary|salary_taxed|\n",
      "+-----------+-----------+---+-------+------------+\n",
      "|        001| Jane Smith| 25|45000.0|      9000.0|\n",
      "|        002|  Bob Brown| 35|55000.0|     11000.0|\n",
      "|        003|  Alice Lee| 30|48000.0|      9600.0|\n",
      "|        004| Jack Chang| 40|60000.0|     12000.0|\n",
      "|        005|  Jill Wong| 28|50000.0|     10000.0|\n",
      "|        006| James Hong| 34|52000.0|     10400.0|\n",
      "|        007|   Kate Kim| 29|51000.0|     10200.0|\n",
      "|        008|    Tom Tan| 36|58000.0|     11600.0|\n",
      "|        009|   Lisa Lee| 27|47000.0|      9400.0|\n",
      "|        010| David Park| 38|59000.0|     11800.0|\n",
      "|        011| Susan Chen| 33|56000.0|     11200.0|\n",
      "|        012|  Brian Kim| 41|60000.0|     12000.0|\n",
      "|        013|  Emily Lee| 32|46000.0|      9200.0|\n",
      "|        014|Michael Lee| 29|53000.0|     10600.0|\n",
      "|        015|Kelly Zhang| 31|54000.0|     10800.0|\n",
      "|        016|George Wang| 35|57000.0|     11400.0|\n",
      "|        017|  Nancy Liu| 28|52000.0|     10400.0|\n",
      "|        019|Steven Chen| 30|55000.0|     11000.0|\n",
      "|        020|  Grace Kim| 32|53000.0|     10600.0|\n",
      "+-----------+-----------+---+-------+------------+\n",
      "\n"
     ]
    },
    {
     "name": "stderr",
     "output_type": "stream",
     "text": [
      "                                                                                \r"
     ]
    }
   ],
   "source": [
    "emp_taxed.show()"
   ]
  },
  {
   "cell_type": "code",
   "execution_count": 22,
   "id": "e93a3f23-1e36-4a15-9328-330efe63b34a",
   "metadata": {},
   "outputs": [],
   "source": [
    "from pyspark.sql.functions import lit\n",
    "emp_new_cols = emp.withColumn(\"ColumnOne\",lit(1)).withColumn(\"columntwo\",lit(\"two\"))"
   ]
  },
  {
   "cell_type": "code",
   "execution_count": 23,
   "id": "61183ad4-2848-4323-abbf-04f5953bbd8c",
   "metadata": {},
   "outputs": [
    {
     "name": "stdout",
     "output_type": "stream",
     "text": [
      "+-----------+-------------+-----------+---+------+------+----------+---------+---------+\n",
      "|employee_id|department_id|       name|age|gender|salary| hire_date|ColumnOne|columntwo|\n",
      "+-----------+-------------+-----------+---+------+------+----------+---------+---------+\n",
      "|        001|          101| Jane Smith| 25|Female| 45000|2016-02-15|        1|      two|\n",
      "|        002|          102|  Bob Brown| 35|  Male| 55000|2014-01-10|        1|      two|\n",
      "|        003|          101|  Alice Lee| 30|Female| 48000|2018-05-21|        1|      two|\n",
      "|        004|          103| Jack Chang| 40|  Male| 60000|2013-04-01|        1|      two|\n",
      "|        005|          102|  Jill Wong| 28|Female| 50000|2017-01-05|        1|      two|\n",
      "|        006|          101| James Hong| 34|  Male| 52000|2016-07-15|        1|      two|\n",
      "|        007|          102|   Kate Kim| 29|Female| 51000|2019-08-01|        1|      two|\n",
      "|        008|          103|    Tom Tan| 36|  Male| 58000|2015-12-01|        1|      two|\n",
      "|        009|          101|   Lisa Lee| 27|Female| 47000|2017-11-01|        1|      two|\n",
      "|        010|          104| David Park| 38|  Male| 59000|2014-06-01|        1|      two|\n",
      "|        011|          105| Susan Chen| 33|Female| 56000|2016-03-01|        1|      two|\n",
      "|        012|          103|  Brian Kim| 41|  Male| 60000|2012-09-01|        1|      two|\n",
      "|        013|          107|  Emily Lee| 32|Female| 46000|2019-04-01|        1|      two|\n",
      "|        014|          106|Michael Lee| 29|  Male| 53000|2018-01-01|        1|      two|\n",
      "|        015|          108|Kelly Zhang| 31|Female| 54000|2017-06-01|        1|      two|\n",
      "|        016|          109|George Wang| 35|  Male| 57000|2015-03-01|        1|      two|\n",
      "|        017|          108|  Nancy Liu| 28|Female| 52000|2020-05-01|        1|      two|\n",
      "|        019|          107|Steven Chen| 30|  Male| 55000|2018-03-01|        1|      two|\n",
      "|        020|          102|  Grace Kim| 32|Female| 53000|2018-11-01|        1|      two|\n",
      "+-----------+-------------+-----------+---+------+------+----------+---------+---------+\n",
      "\n"
     ]
    }
   ],
   "source": [
    "emp_new_cols.show()"
   ]
  },
  {
   "cell_type": "code",
   "execution_count": 24,
   "id": "aaf944a4-7773-4685-bf9d-f5678f20dceb",
   "metadata": {},
   "outputs": [
    {
     "name": "stdout",
     "output_type": "stream",
     "text": [
      "root\n",
      " |-- employee_id: string (nullable = true)\n",
      " |-- department_id: string (nullable = true)\n",
      " |-- name: string (nullable = true)\n",
      " |-- age: string (nullable = true)\n",
      " |-- gender: string (nullable = true)\n",
      " |-- salary: string (nullable = true)\n",
      " |-- hire_date: string (nullable = true)\n",
      " |-- ColumnOne: integer (nullable = false)\n",
      " |-- columntwo: string (nullable = false)\n",
      "\n"
     ]
    }
   ],
   "source": [
    "emp_new_cols.printSchema()"
   ]
  },
  {
   "cell_type": "code",
   "execution_count": 25,
   "id": "41b087a1-8c86-4b8b-9e3c-f95b3d8db93a",
   "metadata": {},
   "outputs": [],
   "source": [
    "emp_renamed = emp_new_cols.withColumnRenamed(\"employee_id\", \"emp_id\")"
   ]
  },
  {
   "cell_type": "code",
   "execution_count": 26,
   "id": "8db3b667-494c-4f11-9593-d1d9e627799d",
   "metadata": {},
   "outputs": [
    {
     "name": "stdout",
     "output_type": "stream",
     "text": [
      "root\n",
      " |-- emp_id: string (nullable = true)\n",
      " |-- department_id: string (nullable = true)\n",
      " |-- name: string (nullable = true)\n",
      " |-- age: string (nullable = true)\n",
      " |-- gender: string (nullable = true)\n",
      " |-- salary: string (nullable = true)\n",
      " |-- hire_date: string (nullable = true)\n",
      " |-- ColumnOne: integer (nullable = false)\n",
      " |-- columntwo: string (nullable = false)\n",
      "\n"
     ]
    }
   ],
   "source": [
    "emp_renamed.printSchema()"
   ]
  },
  {
   "cell_type": "code",
   "execution_count": 27,
   "id": "944dd221-3e59-48bf-a87c-40a25e8bfeda",
   "metadata": {},
   "outputs": [],
   "source": [
    "# columns with spaces\n",
    "\n",
    "emp_Col_spaces = emp_new_cols.withColumnRenamed(\"employee_id\", \"emp id\")"
   ]
  },
  {
   "cell_type": "code",
   "execution_count": 28,
   "id": "6bad92a4-4c8c-4851-9ed3-1726b43f27f3",
   "metadata": {},
   "outputs": [
    {
     "name": "stdout",
     "output_type": "stream",
     "text": [
      "root\n",
      " |-- emp id: string (nullable = true)\n",
      " |-- department_id: string (nullable = true)\n",
      " |-- name: string (nullable = true)\n",
      " |-- age: string (nullable = true)\n",
      " |-- gender: string (nullable = true)\n",
      " |-- salary: string (nullable = true)\n",
      " |-- hire_date: string (nullable = true)\n",
      " |-- ColumnOne: integer (nullable = false)\n",
      " |-- columntwo: string (nullable = false)\n",
      "\n"
     ]
    }
   ],
   "source": [
    "emp_Col_spaces.printSchema()"
   ]
  },
  {
   "cell_type": "code",
   "execution_count": 29,
   "id": "98d52bd6-c276-48f0-90f6-365f42608221",
   "metadata": {},
   "outputs": [],
   "source": [
    "emp_Col_spaces = emp_new_cols.withColumnRenamed(\"employee_id\", \"emp_id\")"
   ]
  },
  {
   "cell_type": "code",
   "execution_count": 30,
   "id": "165fc9c8-0909-4758-bb5d-9119eee6bb85",
   "metadata": {},
   "outputs": [
    {
     "name": "stdout",
     "output_type": "stream",
     "text": [
      "root\n",
      " |-- emp_id: string (nullable = true)\n",
      " |-- department_id: string (nullable = true)\n",
      " |-- name: string (nullable = true)\n",
      " |-- age: string (nullable = true)\n",
      " |-- gender: string (nullable = true)\n",
      " |-- salary: string (nullable = true)\n",
      " |-- hire_date: string (nullable = true)\n",
      " |-- ColumnOne: integer (nullable = false)\n",
      " |-- columntwo: string (nullable = false)\n",
      "\n"
     ]
    }
   ],
   "source": [
    "emp_Col_spaces.printSchema()"
   ]
  },
  {
   "cell_type": "code",
   "execution_count": 31,
   "id": "3a650e65-5093-42bb-aefb-db165cdc6877",
   "metadata": {},
   "outputs": [],
   "source": [
    "\n",
    "emp_Col_spaces = emp_new_cols.withColumnRenamed(\"columnone\", \"column one\")"
   ]
  },
  {
   "cell_type": "code",
   "execution_count": 32,
   "id": "e7763925-d950-474b-943a-a49799f4fe7f",
   "metadata": {},
   "outputs": [
    {
     "name": "stdout",
     "output_type": "stream",
     "text": [
      "root\n",
      " |-- employee_id: string (nullable = true)\n",
      " |-- department_id: string (nullable = true)\n",
      " |-- name: string (nullable = true)\n",
      " |-- age: string (nullable = true)\n",
      " |-- gender: string (nullable = true)\n",
      " |-- salary: string (nullable = true)\n",
      " |-- hire_date: string (nullable = true)\n",
      " |-- column one: integer (nullable = false)\n",
      " |-- columntwo: string (nullable = false)\n",
      "\n"
     ]
    }
   ],
   "source": [
    "emp_Col_spaces.printSchema()"
   ]
  },
  {
   "cell_type": "code",
   "execution_count": 39,
   "id": "b450023a-08b3-4e4c-bedc-cee7a8129362",
   "metadata": {},
   "outputs": [],
   "source": [
    "\n",
    "emp_Col_spaces = emp_new_cols.withColumnRenamed(\"columnone\", \"column one\")"
   ]
  },
  {
   "cell_type": "code",
   "execution_count": 40,
   "id": "ec29707e-5ca9-425a-bd34-bda139621fc1",
   "metadata": {},
   "outputs": [
    {
     "name": "stdout",
     "output_type": "stream",
     "text": [
      "+-----------+-------------+-----------+---+------+------+----------+---------+---------+\n",
      "|employee_id|department_id|       name|age|gender|salary| hire_date|ColumnOne|columntwo|\n",
      "+-----------+-------------+-----------+---+------+------+----------+---------+---------+\n",
      "|        001|          101| Jane Smith| 25|Female| 45000|2016-02-15|        1|      two|\n",
      "|        002|          102|  Bob Brown| 35|  Male| 55000|2014-01-10|        1|      two|\n",
      "|        003|          101|  Alice Lee| 30|Female| 48000|2018-05-21|        1|      two|\n",
      "|        004|          103| Jack Chang| 40|  Male| 60000|2013-04-01|        1|      two|\n",
      "|        005|          102|  Jill Wong| 28|Female| 50000|2017-01-05|        1|      two|\n",
      "|        006|          101| James Hong| 34|  Male| 52000|2016-07-15|        1|      two|\n",
      "|        007|          102|   Kate Kim| 29|Female| 51000|2019-08-01|        1|      two|\n",
      "|        008|          103|    Tom Tan| 36|  Male| 58000|2015-12-01|        1|      two|\n",
      "|        009|          101|   Lisa Lee| 27|Female| 47000|2017-11-01|        1|      two|\n",
      "|        010|          104| David Park| 38|  Male| 59000|2014-06-01|        1|      two|\n",
      "|        011|          105| Susan Chen| 33|Female| 56000|2016-03-01|        1|      two|\n",
      "|        012|          103|  Brian Kim| 41|  Male| 60000|2012-09-01|        1|      two|\n",
      "|        013|          107|  Emily Lee| 32|Female| 46000|2019-04-01|        1|      two|\n",
      "|        014|          106|Michael Lee| 29|  Male| 53000|2018-01-01|        1|      two|\n",
      "|        015|          108|Kelly Zhang| 31|Female| 54000|2017-06-01|        1|      two|\n",
      "|        016|          109|George Wang| 35|  Male| 57000|2015-03-01|        1|      two|\n",
      "|        017|          108|  Nancy Liu| 28|Female| 52000|2020-05-01|        1|      two|\n",
      "|        019|          107|Steven Chen| 30|  Male| 55000|2018-03-01|        1|      two|\n",
      "|        020|          102|  Grace Kim| 32|Female| 53000|2018-11-01|        1|      two|\n",
      "+-----------+-------------+-----------+---+------+------+----------+---------+---------+\n",
      "\n"
     ]
    }
   ],
   "source": [
    "emp_new_cols.show()"
   ]
  },
  {
   "cell_type": "code",
   "execution_count": 45,
   "id": "315a2cdb-3532-4093-9b09-79f8361d622b",
   "metadata": {},
   "outputs": [],
   "source": [
    "#remove columns\n",
    "\n",
    "emp_drop_datframe = emp_new_cols.drop(\"columnone\",\"columntwo\")"
   ]
  },
  {
   "cell_type": "code",
   "execution_count": 46,
   "id": "ba09f138-b120-4400-85ec-ae739ca568e4",
   "metadata": {},
   "outputs": [
    {
     "name": "stdout",
     "output_type": "stream",
     "text": [
      "+-----------+-------------+-----------+---+------+------+----------+\n",
      "|employee_id|department_id|       name|age|gender|salary| hire_date|\n",
      "+-----------+-------------+-----------+---+------+------+----------+\n",
      "|        001|          101| Jane Smith| 25|Female| 45000|2016-02-15|\n",
      "|        002|          102|  Bob Brown| 35|  Male| 55000|2014-01-10|\n",
      "|        003|          101|  Alice Lee| 30|Female| 48000|2018-05-21|\n",
      "|        004|          103| Jack Chang| 40|  Male| 60000|2013-04-01|\n",
      "|        005|          102|  Jill Wong| 28|Female| 50000|2017-01-05|\n",
      "|        006|          101| James Hong| 34|  Male| 52000|2016-07-15|\n",
      "|        007|          102|   Kate Kim| 29|Female| 51000|2019-08-01|\n",
      "|        008|          103|    Tom Tan| 36|  Male| 58000|2015-12-01|\n",
      "|        009|          101|   Lisa Lee| 27|Female| 47000|2017-11-01|\n",
      "|        010|          104| David Park| 38|  Male| 59000|2014-06-01|\n",
      "|        011|          105| Susan Chen| 33|Female| 56000|2016-03-01|\n",
      "|        012|          103|  Brian Kim| 41|  Male| 60000|2012-09-01|\n",
      "|        013|          107|  Emily Lee| 32|Female| 46000|2019-04-01|\n",
      "|        014|          106|Michael Lee| 29|  Male| 53000|2018-01-01|\n",
      "|        015|          108|Kelly Zhang| 31|Female| 54000|2017-06-01|\n",
      "|        016|          109|George Wang| 35|  Male| 57000|2015-03-01|\n",
      "|        017|          108|  Nancy Liu| 28|Female| 52000|2020-05-01|\n",
      "|        019|          107|Steven Chen| 30|  Male| 55000|2018-03-01|\n",
      "|        020|          102|  Grace Kim| 32|Female| 53000|2018-11-01|\n",
      "+-----------+-------------+-----------+---+------+------+----------+\n",
      "\n"
     ]
    }
   ],
   "source": [
    "emp_drop_datframe.show()"
   ]
  },
  {
   "cell_type": "code",
   "execution_count": 52,
   "id": "ba72324b-b1bb-42af-9a07-34037a680ac1",
   "metadata": {},
   "outputs": [],
   "source": [
    "#filter \n",
    "emp_tax_greater = emp_drop_datframe.select(\"employee_id\",\"name\",\"age\",\"salary\").filter(\"salary> 5000\")"
   ]
  },
  {
   "cell_type": "code",
   "execution_count": 53,
   "id": "7284586b-d999-4cc4-b6bb-6499f7bbeb31",
   "metadata": {},
   "outputs": [
    {
     "name": "stdout",
     "output_type": "stream",
     "text": [
      "+-----------+-----------+---+------+\n",
      "|employee_id|       name|age|salary|\n",
      "+-----------+-----------+---+------+\n",
      "|        001| Jane Smith| 25| 45000|\n",
      "|        002|  Bob Brown| 35| 55000|\n",
      "|        003|  Alice Lee| 30| 48000|\n",
      "|        004| Jack Chang| 40| 60000|\n",
      "|        005|  Jill Wong| 28| 50000|\n",
      "|        006| James Hong| 34| 52000|\n",
      "|        007|   Kate Kim| 29| 51000|\n",
      "|        008|    Tom Tan| 36| 58000|\n",
      "|        009|   Lisa Lee| 27| 47000|\n",
      "|        010| David Park| 38| 59000|\n",
      "|        011| Susan Chen| 33| 56000|\n",
      "|        012|  Brian Kim| 41| 60000|\n",
      "|        013|  Emily Lee| 32| 46000|\n",
      "|        014|Michael Lee| 29| 53000|\n",
      "|        015|Kelly Zhang| 31| 54000|\n",
      "|        016|George Wang| 35| 57000|\n",
      "|        017|  Nancy Liu| 28| 52000|\n",
      "|        019|Steven Chen| 30| 55000|\n",
      "|        020|  Grace Kim| 32| 53000|\n",
      "+-----------+-----------+---+------+\n",
      "\n"
     ]
    }
   ],
   "source": [
    "emp_tax_greater.show()"
   ]
  },
  {
   "cell_type": "code",
   "execution_count": 54,
   "id": "ba3333b3-dba9-4cfe-844b-74e429efdafa",
   "metadata": {},
   "outputs": [],
   "source": [
    "emp_limit = emp_drop_datframe.select(\"employee_id\",\"name\",\"age\",\"salary\").filter(\"salary> 5000\").limit(5)"
   ]
  },
  {
   "cell_type": "code",
   "execution_count": 55,
   "id": "d7268565-44dc-4776-bd9e-d13410a2cd7b",
   "metadata": {},
   "outputs": [
    {
     "name": "stdout",
     "output_type": "stream",
     "text": [
      "+-----------+----------+---+------+\n",
      "|employee_id|      name|age|salary|\n",
      "+-----------+----------+---+------+\n",
      "|        001|Jane Smith| 25| 45000|\n",
      "|        002| Bob Brown| 35| 55000|\n",
      "|        003| Alice Lee| 30| 48000|\n",
      "|        004|Jack Chang| 40| 60000|\n",
      "|        005| Jill Wong| 28| 50000|\n",
      "+-----------+----------+---+------+\n",
      "\n"
     ]
    }
   ],
   "source": [
    "emp_limit.show()"
   ]
  },
  {
   "cell_type": "code",
   "execution_count": 56,
   "id": "50600546-a43d-47ca-b460-c015a99a8d43",
   "metadata": {},
   "outputs": [
    {
     "name": "stdout",
     "output_type": "stream",
     "text": [
      "+-----------+----------+---+------+\n",
      "|employee_id|      name|age|salary|\n",
      "+-----------+----------+---+------+\n",
      "|        001|Jane Smith| 25| 45000|\n",
      "|        002| Bob Brown| 35| 55000|\n",
      "+-----------+----------+---+------+\n",
      "only showing top 2 rows\n",
      "\n"
     ]
    }
   ],
   "source": [
    "emp_tax_greater.show(2)"
   ]
  },
  {
   "cell_type": "code",
   "execution_count": 62,
   "id": "f789996b-1e73-4496-a7db-daa051a73930",
   "metadata": {},
   "outputs": [],
   "source": [
    "#adding multiple columns\n",
    "#salary, static column 1 , third lit 3\n",
    "columns = {\n",
    "         \"tax\" : col(\"salary\")* 0.2,\n",
    "         \"columnone\" : lit(1),\n",
    "         \"columntwo\" : lit(2)\n",
    "}\n",
    "\n",
    "    \n",
    "emp_add_columns = emp.withColumns(columns)\n"
   ]
  },
  {
   "cell_type": "code",
   "execution_count": 63,
   "id": "5a3b35a5-cf7d-49d5-8aab-602287d97070",
   "metadata": {},
   "outputs": [
    {
     "name": "stderr",
     "output_type": "stream",
     "text": [
      "                                                                                \r"
     ]
    },
    {
     "name": "stdout",
     "output_type": "stream",
     "text": [
      "+-----------+-------------+-----------+---+------+------+----------+-------+---------+---------+\n",
      "|employee_id|department_id|       name|age|gender|salary| hire_date|    tax|columnone|columntwo|\n",
      "+-----------+-------------+-----------+---+------+------+----------+-------+---------+---------+\n",
      "|        001|          101| Jane Smith| 25|Female| 45000|2016-02-15| 9000.0|        1|        2|\n",
      "|        002|          102|  Bob Brown| 35|  Male| 55000|2014-01-10|11000.0|        1|        2|\n",
      "|        003|          101|  Alice Lee| 30|Female| 48000|2018-05-21| 9600.0|        1|        2|\n",
      "|        004|          103| Jack Chang| 40|  Male| 60000|2013-04-01|12000.0|        1|        2|\n",
      "|        005|          102|  Jill Wong| 28|Female| 50000|2017-01-05|10000.0|        1|        2|\n",
      "|        006|          101| James Hong| 34|  Male| 52000|2016-07-15|10400.0|        1|        2|\n",
      "|        007|          102|   Kate Kim| 29|Female| 51000|2019-08-01|10200.0|        1|        2|\n",
      "|        008|          103|    Tom Tan| 36|  Male| 58000|2015-12-01|11600.0|        1|        2|\n",
      "|        009|          101|   Lisa Lee| 27|Female| 47000|2017-11-01| 9400.0|        1|        2|\n",
      "|        010|          104| David Park| 38|  Male| 59000|2014-06-01|11800.0|        1|        2|\n",
      "|        011|          105| Susan Chen| 33|Female| 56000|2016-03-01|11200.0|        1|        2|\n",
      "|        012|          103|  Brian Kim| 41|  Male| 60000|2012-09-01|12000.0|        1|        2|\n",
      "|        013|          107|  Emily Lee| 32|Female| 46000|2019-04-01| 9200.0|        1|        2|\n",
      "|        014|          106|Michael Lee| 29|  Male| 53000|2018-01-01|10600.0|        1|        2|\n",
      "|        015|          108|Kelly Zhang| 31|Female| 54000|2017-06-01|10800.0|        1|        2|\n",
      "|        016|          109|George Wang| 35|  Male| 57000|2015-03-01|11400.0|        1|        2|\n",
      "|        017|          108|  Nancy Liu| 28|Female| 52000|2020-05-01|10400.0|        1|        2|\n",
      "|        019|          107|Steven Chen| 30|  Male| 55000|2018-03-01|11000.0|        1|        2|\n",
      "|        020|          102|  Grace Kim| 32|Female| 53000|2018-11-01|10600.0|        1|        2|\n",
      "+-----------+-------------+-----------+---+------+------+----------+-------+---------+---------+\n",
      "\n"
     ]
    }
   ],
   "source": [
    "emp_add_columns.show()"
   ]
  },
  {
   "cell_type": "code",
   "execution_count": null,
   "id": "e2f0a3fa-50ca-4ba8-9b0b-26b135a2b577",
   "metadata": {},
   "outputs": [],
   "source": [
    "#case when\n",
    "#select emloyee_id, name, age, gender\n",
    "#  acse when gender  = male then m when gender = female then f else null end as ne gwnder, hire date\n",
    "\n",
    "\n",
    "\n",
    "from pyspark.sql.functions import when, col\n",
    "\n",
    "emp_new_gender = emp.withColumn(\n",
    "    \"new_gender\",\n",
    "    when(col(\"gender\") == \"Male\", \"M\")\n",
    "    .when(col(\"gender\") == \"Female\", \"F\")\n",
    "    .otherwise(None)\n",
    ")\n"
   ]
  },
  {
   "cell_type": "code",
   "execution_count": null,
   "id": "96ac8293-494f-467d-9ecc-27e44927b3fa",
   "metadata": {},
   "outputs": [],
   "source": [
    "emp_new_gender.show(5)"
   ]
  },
  {
   "cell_type": "code",
   "execution_count": null,
   "id": "810ad8e6-ab37-49dc-98eb-e95681ad9ab4",
   "metadata": {},
   "outputs": [],
   "source": []
  }
 ],
 "metadata": {
  "kernelspec": {
   "display_name": "Python 3 (ipykernel)",
   "language": "python",
   "name": "python3"
  },
  "language_info": {
   "codemirror_mode": {
    "name": "ipython",
    "version": 3
   },
   "file_extension": ".py",
   "mimetype": "text/x-python",
   "name": "python",
   "nbconvert_exporter": "python",
   "pygments_lexer": "ipython3",
   "version": "3.10.12"
  }
 },
 "nbformat": 4,
 "nbformat_minor": 5
}
