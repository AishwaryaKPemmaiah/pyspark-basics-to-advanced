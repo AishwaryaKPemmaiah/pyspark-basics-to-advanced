{
 "cells": [
  {
   "cell_type": "code",
   "execution_count": 1,
   "id": "edb189d4-b590-404b-95b0-e2339d8b7b94",
   "metadata": {},
   "outputs": [
    {
     "name": "stderr",
     "output_type": "stream",
     "text": [
      "25/05/20 16:36:03 WARN Utils: Your hostname, oem-Lenovo-G50-80 resolves to a loopback address: 127.0.1.1; using 192.168.0.121 instead (on interface wlp3s0)\n",
      "25/05/20 16:36:03 WARN Utils: Set SPARK_LOCAL_IP if you need to bind to another address\n",
      "Setting default log level to \"WARN\".\n",
      "To adjust logging level use sc.setLogLevel(newLevel). For SparkR, use setLogLevel(newLevel).\n",
      "25/05/20 16:36:06 WARN NativeCodeLoader: Unable to load native-hadoop library for your platform... using builtin-java classes where applicable\n"
     ]
    }
   ],
   "source": [
    "from pyspark.sql import SparkSession\n",
    "spark = (SparkSession.\\\n",
    "         builder.\\\n",
    "         appName(\"Complex data formats\").\\\n",
    "         master(\"local[*]\").\\\n",
    "         getOrCreate()\n",
    "        )\n",
    "         "
   ]
  },
  {
   "cell_type": "code",
   "execution_count": 2,
   "id": "fdb82b4c-1cd2-4902-82dc-4becaf48cb10",
   "metadata": {},
   "outputs": [
    {
     "data": {
      "text/html": [
       "\n",
       "            <div>\n",
       "                <p><b>SparkSession - in-memory</b></p>\n",
       "                \n",
       "        <div>\n",
       "            <p><b>SparkContext</b></p>\n",
       "\n",
       "            <p><a href=\"http://192.168.0.121:4040\">Spark UI</a></p>\n",
       "\n",
       "            <dl>\n",
       "              <dt>Version</dt>\n",
       "                <dd><code>v3.5.5</code></dd>\n",
       "              <dt>Master</dt>\n",
       "                <dd><code>local[*]</code></dd>\n",
       "              <dt>AppName</dt>\n",
       "                <dd><code>Complex data formats</code></dd>\n",
       "            </dl>\n",
       "        </div>\n",
       "        \n",
       "            </div>\n",
       "        "
      ],
      "text/plain": [
       "<pyspark.sql.session.SparkSession at 0x747199356590>"
      ]
     },
     "execution_count": 2,
     "metadata": {},
     "output_type": "execute_result"
    }
   ],
   "source": [
    "spark"
   ]
  },
  {
   "cell_type": "code",
   "execution_count": 3,
   "id": "8ff69c53-61a9-47af-a15e-43937098bb3a",
   "metadata": {},
   "outputs": [],
   "source": [
    "#read parquet sales data\n",
    "df_parquet = spark.read.format(\"parquet\").load(\"data/input/sales_data.parquet\")"
   ]
  },
  {
   "cell_type": "code",
   "execution_count": null,
   "id": "e86948bf-3d70-491b-a8de-d6d6c4ed68e6",
   "metadata": {},
   "outputs": [],
   "source": [
    "df_parquet.printSchema()   # correcty determones the  column nmae anad the dattypea as parquet stores the metdata ang witht the files itself"
   ]
  },
  {
   "cell_type": "code",
   "execution_count": null,
   "id": "5bed9c8b-4fbd-44b2-8a8e-29beb57a65f4",
   "metadata": {},
   "outputs": [],
   "source": [
    "df_parquet.show()"
   ]
  },
  {
   "cell_type": "code",
   "execution_count": 4,
   "id": "2d0b7a89-b435-4f0c-84a5-a54b31d608e5",
   "metadata": {},
   "outputs": [],
   "source": [
    "#read orc sales data\n",
    "df_orc = spark.read.format(\"orc\").load(\"data/input/sales_data.orc\")"
   ]
  },
  {
   "cell_type": "code",
   "execution_count": null,
   "id": "d7a2627b-c8fd-4cf4-9c08-2556bf58c89a",
   "metadata": {},
   "outputs": [],
   "source": [
    "df_orc.printSchema()"
   ]
  },
  {
   "cell_type": "code",
   "execution_count": null,
   "id": "bd9874da-5350-47e8-85ea-80be44b3c4a0",
   "metadata": {},
   "outputs": [],
   "source": [
    "df_orc.show()"
   ]
  },
  {
   "cell_type": "code",
   "execution_count": null,
   "id": "7199c466-cca4-474b-a0fe-b0b352c4bc04",
   "metadata": {},
   "outputs": [],
   "source": [
    "#read parquet sales data\n",
    "df_parquet_total = spark.read.format(\"parquet\").load(\"data/input/sales_data.parquet/\")"
   ]
  },
  {
   "cell_type": "code",
   "execution_count": null,
   "id": "7e93f50c-d00e-487b-be42-939811b84f3e",
   "metadata": {},
   "outputs": [],
   "source": [
    "# we can have a folder with multiplle files how do we read it?\n",
    "df_parquet_total = spark.read.format(\"parquet\").load(\"data/input/total_sales_data/*.parquet\")     # here total_sales_data is the folder hich consists of multiple parquet files\n",
    "\n",
    "df_orc_total = spark.read.format(\"orc\").load(\"data/input/total_sales_data/*.orc\")\n",
    "\n",
    "\n",
    "# default compression si snappy"
   ]
  },
  {
   "cell_type": "code",
   "execution_count": null,
   "id": "095d9c3b-6dc7-4daf-a4ba-4b40198ee72d",
   "metadata": {},
   "outputs": [],
   "source": [
    "##benefits of columnar storage\n",
    "# Define a simple Python decorator to measure execution time\n",
    "from time import time\n",
    "\n",
    "def get_time(func):\n",
    "    def inner_get_time() -> str:\n",
    "        start_time = time()\n",
    "        func()\n",
    "        end_time = time()\n",
    "        print(f\"Execution time: {(end_time - start_time)*1000} ms\")\n",
    "    return inner_get_time\n",
    "\n"
   ]
  },
  {
   "cell_type": "code",
   "execution_count": null,
   "id": "e702abe8-2506-4db8-a0f3-93d65fa865e6",
   "metadata": {},
   "outputs": [],
   "source": [
    "\n",
    "@get_time\n",
    "def f():\n",
    "    df = spark.read.format(\"parquet\").load(\"data/input/sales_data.parquet\")\n",
    "    df.count()\n",
    "\n",
    "#akes more time"
   ]
  },
  {
   "cell_type": "code",
   "execution_count": null,
   "id": "904e8c78-a429-46c2-9ca1-b5837e753704",
   "metadata": {},
   "outputs": [],
   "source": [
    "\n",
    "@get_time\n",
    "def f():\n",
    "    df = spark.read.format(\"parquet\").load(\"data/input/sales_data.parquet\")\n",
    "    df.select().count()   #takes less time"
   ]
  },
  {
   "cell_type": "code",
   "execution_count": null,
   "id": "47a1e017-c98c-4c12-8160-fffc8147bc1e",
   "metadata": {},
   "outputs": [],
   "source": [
    "sales_recursive/\n",
    "├── sales_1v1.parquet\n",
    "└── sales_2/\n",
    "    └── sales_2v1.parquet\n"
   ]
  },
  {
   "cell_type": "code",
   "execution_count": null,
   "id": "3b26b44c-0be8-403f-967e-480f350546b0",
   "metadata": {},
   "outputs": [],
   "source": [
    "df_1 = spark.read.format(\"parquet\").load(\"data/input/sales_recursive/sales_1/1.parquet\")\n",
    "df_1.show()\n",
    "\n",
    "\n",
    "\n",
    "#  transacted_at\ttrx_id\tretailer_id\tdescription\tamount\tcity_id\n",
    "#  2017-11-24 19:00:00\t173411172201\t644878953\tunkn ppd id: 7...\t58.84\t3982599171\n",
    "\n",
    "df_2 = spark.read.format(\"parquet\").load(\"data/input/sales_recursive/sales_2/2.parquet\")\n",
    "df_2.show()\n",
    "\n",
    "\n",
    "transacted_at\ttrx_id\tretailer_id\tdescription\tamount\tcity_id\n",
    "2017-11-24 19:00:00\t173411172231\t1953776884\tunkn ppd id: 15...\t29.99\t554522086\n"
   ]
  },
  {
   "cell_type": "code",
   "execution_count": null,
   "id": "b4a3980a-5a76-4fa9-adfb-cb13f7ba24bd",
   "metadata": {},
   "outputs": [],
   "source": [
    "df_all = spark.read.format(\"parquet\") \\\n",
    "    .option(\"recursiveFileLookup\", True) \\\n",
    "    .load(\"data/input/sales_recursive/\")\n",
    "df_all.show()\n"
   ]
  }
 ],
 "metadata": {
  "kernelspec": {
   "display_name": "Python 3 (ipykernel)",
   "language": "python",
   "name": "python3"
  },
  "language_info": {
   "codemirror_mode": {
    "name": "ipython",
    "version": 3
   },
   "file_extension": ".py",
   "mimetype": "text/x-python",
   "name": "python",
   "nbconvert_exporter": "python",
   "pygments_lexer": "ipython3",
   "version": "3.10.12"
  }
 },
 "nbformat": 4,
 "nbformat_minor": 5
}
